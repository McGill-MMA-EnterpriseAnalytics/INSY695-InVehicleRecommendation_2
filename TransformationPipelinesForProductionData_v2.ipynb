{
 "cells": [
  {
   "cell_type": "code",
   "execution_count": 1,
   "id": "7ee6b10b",
   "metadata": {},
   "outputs": [],
   "source": [
    "#importing libraries\n",
    "import pandas as pd\n",
    "import numpy as np\n",
    "from scipy import stats as st\n",
    "from sklearn.base import BaseEstimator, TransformerMixin\n",
    "from sklearn.pipeline import Pipeline\n",
    "from sklearn.impute import SimpleImputer\n",
    "from sklearn.preprocessing import OneHotEncoder\n",
    "from sklearn.compose import ColumnTransformer\n",
    "from sklearn.model_selection import train_test_split\n",
    "import warnings\n",
    "from sklearn.preprocessing import OneHotEncoder\n",
    "from category_encoders.leave_one_out import LeaveOneOutEncoder\n",
    "warnings.filterwarnings('ignore')"
   ]
  },
  {
   "cell_type": "code",
   "execution_count": 2,
   "id": "7d80eb84",
   "metadata": {},
   "outputs": [],
   "source": [
    "#importing data\n",
    "coupon = pd.read_csv('in-vehicle-coupon-recommendation.csv')"
   ]
  },
  {
   "cell_type": "code",
   "execution_count": 3,
   "id": "4b0687d3",
   "metadata": {},
   "outputs": [
    {
     "data": {
      "text/html": [
       "<div>\n",
       "<style scoped>\n",
       "    .dataframe tbody tr th:only-of-type {\n",
       "        vertical-align: middle;\n",
       "    }\n",
       "\n",
       "    .dataframe tbody tr th {\n",
       "        vertical-align: top;\n",
       "    }\n",
       "\n",
       "    .dataframe thead th {\n",
       "        text-align: right;\n",
       "    }\n",
       "</style>\n",
       "<table border=\"1\" class=\"dataframe\">\n",
       "  <thead>\n",
       "    <tr style=\"text-align: right;\">\n",
       "      <th></th>\n",
       "      <th>destination</th>\n",
       "      <th>passanger</th>\n",
       "      <th>weather</th>\n",
       "      <th>temperature</th>\n",
       "      <th>time</th>\n",
       "      <th>coupon</th>\n",
       "      <th>expiration</th>\n",
       "      <th>gender</th>\n",
       "      <th>age</th>\n",
       "      <th>maritalStatus</th>\n",
       "      <th>...</th>\n",
       "      <th>CoffeeHouse</th>\n",
       "      <th>CarryAway</th>\n",
       "      <th>RestaurantLessThan20</th>\n",
       "      <th>Restaurant20To50</th>\n",
       "      <th>toCoupon_GEQ5min</th>\n",
       "      <th>toCoupon_GEQ15min</th>\n",
       "      <th>toCoupon_GEQ25min</th>\n",
       "      <th>direction_same</th>\n",
       "      <th>direction_opp</th>\n",
       "      <th>Y</th>\n",
       "    </tr>\n",
       "  </thead>\n",
       "  <tbody>\n",
       "    <tr>\n",
       "      <th>0</th>\n",
       "      <td>No Urgent Place</td>\n",
       "      <td>Alone</td>\n",
       "      <td>Sunny</td>\n",
       "      <td>55</td>\n",
       "      <td>2PM</td>\n",
       "      <td>Restaurant(&lt;20)</td>\n",
       "      <td>1d</td>\n",
       "      <td>Female</td>\n",
       "      <td>21</td>\n",
       "      <td>Unmarried partner</td>\n",
       "      <td>...</td>\n",
       "      <td>never</td>\n",
       "      <td>NaN</td>\n",
       "      <td>4~8</td>\n",
       "      <td>1~3</td>\n",
       "      <td>1</td>\n",
       "      <td>0</td>\n",
       "      <td>0</td>\n",
       "      <td>0</td>\n",
       "      <td>1</td>\n",
       "      <td>1</td>\n",
       "    </tr>\n",
       "    <tr>\n",
       "      <th>1</th>\n",
       "      <td>No Urgent Place</td>\n",
       "      <td>Friend(s)</td>\n",
       "      <td>Sunny</td>\n",
       "      <td>80</td>\n",
       "      <td>10AM</td>\n",
       "      <td>Coffee House</td>\n",
       "      <td>2h</td>\n",
       "      <td>Female</td>\n",
       "      <td>21</td>\n",
       "      <td>Unmarried partner</td>\n",
       "      <td>...</td>\n",
       "      <td>never</td>\n",
       "      <td>NaN</td>\n",
       "      <td>4~8</td>\n",
       "      <td>1~3</td>\n",
       "      <td>1</td>\n",
       "      <td>0</td>\n",
       "      <td>0</td>\n",
       "      <td>0</td>\n",
       "      <td>1</td>\n",
       "      <td>0</td>\n",
       "    </tr>\n",
       "    <tr>\n",
       "      <th>2</th>\n",
       "      <td>No Urgent Place</td>\n",
       "      <td>Friend(s)</td>\n",
       "      <td>Sunny</td>\n",
       "      <td>80</td>\n",
       "      <td>10AM</td>\n",
       "      <td>Carry out &amp; Take away</td>\n",
       "      <td>2h</td>\n",
       "      <td>Female</td>\n",
       "      <td>21</td>\n",
       "      <td>Unmarried partner</td>\n",
       "      <td>...</td>\n",
       "      <td>never</td>\n",
       "      <td>NaN</td>\n",
       "      <td>4~8</td>\n",
       "      <td>1~3</td>\n",
       "      <td>1</td>\n",
       "      <td>1</td>\n",
       "      <td>0</td>\n",
       "      <td>0</td>\n",
       "      <td>1</td>\n",
       "      <td>1</td>\n",
       "    </tr>\n",
       "    <tr>\n",
       "      <th>3</th>\n",
       "      <td>No Urgent Place</td>\n",
       "      <td>Friend(s)</td>\n",
       "      <td>Sunny</td>\n",
       "      <td>80</td>\n",
       "      <td>2PM</td>\n",
       "      <td>Coffee House</td>\n",
       "      <td>2h</td>\n",
       "      <td>Female</td>\n",
       "      <td>21</td>\n",
       "      <td>Unmarried partner</td>\n",
       "      <td>...</td>\n",
       "      <td>never</td>\n",
       "      <td>NaN</td>\n",
       "      <td>4~8</td>\n",
       "      <td>1~3</td>\n",
       "      <td>1</td>\n",
       "      <td>1</td>\n",
       "      <td>0</td>\n",
       "      <td>0</td>\n",
       "      <td>1</td>\n",
       "      <td>0</td>\n",
       "    </tr>\n",
       "    <tr>\n",
       "      <th>4</th>\n",
       "      <td>No Urgent Place</td>\n",
       "      <td>Friend(s)</td>\n",
       "      <td>Sunny</td>\n",
       "      <td>80</td>\n",
       "      <td>2PM</td>\n",
       "      <td>Coffee House</td>\n",
       "      <td>1d</td>\n",
       "      <td>Female</td>\n",
       "      <td>21</td>\n",
       "      <td>Unmarried partner</td>\n",
       "      <td>...</td>\n",
       "      <td>never</td>\n",
       "      <td>NaN</td>\n",
       "      <td>4~8</td>\n",
       "      <td>1~3</td>\n",
       "      <td>1</td>\n",
       "      <td>1</td>\n",
       "      <td>0</td>\n",
       "      <td>0</td>\n",
       "      <td>1</td>\n",
       "      <td>0</td>\n",
       "    </tr>\n",
       "  </tbody>\n",
       "</table>\n",
       "<p>5 rows × 26 columns</p>\n",
       "</div>"
      ],
      "text/plain": [
       "       destination  passanger weather  temperature  time  \\\n",
       "0  No Urgent Place      Alone   Sunny           55   2PM   \n",
       "1  No Urgent Place  Friend(s)   Sunny           80  10AM   \n",
       "2  No Urgent Place  Friend(s)   Sunny           80  10AM   \n",
       "3  No Urgent Place  Friend(s)   Sunny           80   2PM   \n",
       "4  No Urgent Place  Friend(s)   Sunny           80   2PM   \n",
       "\n",
       "                  coupon expiration  gender age      maritalStatus  ...  \\\n",
       "0        Restaurant(<20)         1d  Female  21  Unmarried partner  ...   \n",
       "1           Coffee House         2h  Female  21  Unmarried partner  ...   \n",
       "2  Carry out & Take away         2h  Female  21  Unmarried partner  ...   \n",
       "3           Coffee House         2h  Female  21  Unmarried partner  ...   \n",
       "4           Coffee House         1d  Female  21  Unmarried partner  ...   \n",
       "\n",
       "   CoffeeHouse CarryAway RestaurantLessThan20 Restaurant20To50  \\\n",
       "0        never       NaN                  4~8              1~3   \n",
       "1        never       NaN                  4~8              1~3   \n",
       "2        never       NaN                  4~8              1~3   \n",
       "3        never       NaN                  4~8              1~3   \n",
       "4        never       NaN                  4~8              1~3   \n",
       "\n",
       "  toCoupon_GEQ5min toCoupon_GEQ15min toCoupon_GEQ25min direction_same  \\\n",
       "0                1                 0                 0              0   \n",
       "1                1                 0                 0              0   \n",
       "2                1                 1                 0              0   \n",
       "3                1                 1                 0              0   \n",
       "4                1                 1                 0              0   \n",
       "\n",
       "  direction_opp  Y  \n",
       "0             1  1  \n",
       "1             1  0  \n",
       "2             1  1  \n",
       "3             1  0  \n",
       "4             1  0  \n",
       "\n",
       "[5 rows x 26 columns]"
      ]
     },
     "execution_count": 3,
     "metadata": {},
     "output_type": "execute_result"
    }
   ],
   "source": [
    "#Looking into data\n",
    "coupon.head()"
   ]
  },
  {
   "cell_type": "code",
   "execution_count": 4,
   "id": "4b79a7ea",
   "metadata": {},
   "outputs": [
    {
     "data": {
      "text/plain": [
       "destination             object\n",
       "passanger               object\n",
       "weather                 object\n",
       "temperature              int64\n",
       "time                    object\n",
       "coupon                  object\n",
       "expiration              object\n",
       "gender                  object\n",
       "age                     object\n",
       "maritalStatus           object\n",
       "has_children             int64\n",
       "education               object\n",
       "occupation              object\n",
       "income                  object\n",
       "car                     object\n",
       "Bar                     object\n",
       "CoffeeHouse             object\n",
       "CarryAway               object\n",
       "RestaurantLessThan20    object\n",
       "Restaurant20To50        object\n",
       "toCoupon_GEQ5min         int64\n",
       "toCoupon_GEQ15min        int64\n",
       "toCoupon_GEQ25min        int64\n",
       "direction_same           int64\n",
       "direction_opp            int64\n",
       "Y                        int64\n",
       "dtype: object"
      ]
     },
     "execution_count": 4,
     "metadata": {},
     "output_type": "execute_result"
    }
   ],
   "source": [
    "coupon.dtypes"
   ]
  },
  {
   "cell_type": "code",
   "execution_count": 5,
   "id": "a8c5339b",
   "metadata": {},
   "outputs": [],
   "source": [
    "#Separate response and features\n",
    "response = coupon[\"Y\"]\n",
    "df_features = coupon.drop(\"Y\",axis=1)"
   ]
  },
  {
   "cell_type": "code",
   "execution_count": 6,
   "id": "19c298ce",
   "metadata": {},
   "outputs": [],
   "source": [
    "#Split training and testing data \n",
    "X_train, X_test, y_train, y_test = train_test_split(df_features, response, test_size=0.3, random_state=695)"
   ]
  },
  {
   "cell_type": "code",
   "execution_count": 7,
   "id": "f1499ca5",
   "metadata": {},
   "outputs": [],
   "source": [
    "class TransformingColumns(BaseEstimator, TransformerMixin):\n",
    "    def __init__(self): # no *args or **kargs\n",
    "        print(\"Transformer initialized\")\n",
    "   \n",
    "    def fit(self, X, y=None):\n",
    "        return self  # nothing else to do\n",
    "    \n",
    "    def transform(self, X):    \n",
    "        gender_mapper = {'Female': 1, 'Male': 0}\n",
    "        expiry_mapper = {'1d': 24, '2h': 2}\n",
    "        age_mapper = {'50plus': 50,'below21': 18}\n",
    "        time_mapper = {'6PM': 18, '7AM': 7, '10AM': 10, '2PM': 14, '10PM': 22}\n",
    "        education_mapper = {'Some High School': 1, 'High School Graduate': 2, 'Some college - no degree': 3, 'Associates degree': 4, 'Bachelors degree': 5, 'Graduate degree (Masters or Doctorate)': 6}\n",
    "        visit_mapper = {'never': 0, 'less1': 1, '1~3': 2, '4~8': 3, 'gt8': 4}\n",
    "        income_ub_mapper = {'Less than $12500': 12499, '$12500 - $24999': 24999, '$25000 - $37499': 37499, '$37500 - $49999': 49999, '$50000 - $62499': 62499, '$62500 - $74999': 74999, '$75000 - $87499': 87499, '$87500 - $99999': 99999, '$100000 or More': 200000}\n",
    "        income_lb_mapper = {'Less than $12500': 0, '$12500 - $24999': 12500, '$25000 - $37499': 25000, '$37500 - $49999': 37500, '$50000 - $62499': 50000, '$62500 - $74999': 62500, '$75000 - $87499': 75000, '$87500 - $99999': 87500, '$100000 or More': 100000}\n",
    "        \n",
    "        X['gender'] = pd.to_numeric(X['gender'].replace(gender_mapper))\n",
    "        X['expiration'] = pd.to_numeric(X['expiration'].replace(expiry_mapper))\n",
    "        X['age'] = pd.to_numeric(X['age'].replace(age_mapper))\n",
    "        X['time'] = pd.to_numeric(X['time'].replace(time_mapper))\n",
    "        X['education'] = pd.to_numeric(X['education'].replace(education_mapper))\n",
    "        X['Bar'] = X['Bar'].replace(visit_mapper)\n",
    "        X['CoffeeHouse'] = X['CoffeeHouse'].replace(visit_mapper)\n",
    "        X['CarryAway'] = X['CarryAway'].replace(visit_mapper)\n",
    "        X['RestaurantLessThan20'] = X['RestaurantLessThan20'].replace(visit_mapper)\n",
    "        X['Restaurant20To50'] = X['Restaurant20To50'].replace(visit_mapper)\n",
    "        X['income_ub'] = pd.to_numeric(X['income'].replace(income_ub_mapper))\n",
    "        X['income_lb'] = pd.to_numeric(X['income'].replace(income_lb_mapper))\n",
    "        \n",
    "        #Initialize Imputer\n",
    "        imputer = SimpleImputer(strategy=\"median\")\n",
    "        imputer.fit(X[['Bar', 'CoffeeHouse', 'CarryAway', 'RestaurantLessThan20', 'Restaurant20To50']])\n",
    "        X[['Bar', 'CoffeeHouse', 'CarryAway', 'RestaurantLessThan20', 'Restaurant20To50']] = imputer.transform(X[['Bar', 'CoffeeHouse', 'CarryAway', 'RestaurantLessThan20', 'Restaurant20To50']])\n",
    "        \n",
    "        X = X.drop(axis=1, columns=['car', 'toCoupon_GEQ5min', 'income'])\n",
    "        \n",
    "        return X"
   ]
  },
  {
   "cell_type": "code",
   "execution_count": 8,
   "id": "b2006f3d",
   "metadata": {},
   "outputs": [],
   "source": [
    "#Define features that need to be transformed\n",
    "trans_features = [\"gender\",\"expiration\",\"age\",\"time\",\"education\",\"Bar\",\n",
    "                  \"CoffeeHouse\",\"CarryAway\",\"RestaurantLessThan20\",\"Restaurant20To50\",\"income\",\n",
    "                  'car', 'toCoupon_GEQ5min']\n",
    "#Define categorical features that need to be transformed\n",
    "cat_features = ['destination', 'passanger', 'weather', 'coupon', 'maritalStatus', 'occupation']\n",
    "#Define features that need imputing\n",
    "#imp_features = ['Bar', 'CoffeeHouse', 'CarryAway', 'RestaurantLessThan20', 'Restaurant20To50']\n",
    "\n",
    "#Initialize LeaveOneOutEncoder\n",
    "loo_transformer = LeaveOneOutEncoder(handle_unknown=\"value\", sigma = 0.1)\n"
   ]
  },
  {
   "cell_type": "code",
   "execution_count": 9,
   "id": "9d035548",
   "metadata": {},
   "outputs": [
    {
     "name": "stdout",
     "output_type": "stream",
     "text": [
      "Transformer initialized\n"
     ]
    }
   ],
   "source": [
    "#Passing the transforming class defined above to pipeline\n",
    "prod_pipeline = ColumnTransformer([\n",
    "        ('transformation', TransformingColumns(), trans_features),\n",
    "        (\"cat\",loo_transformer,cat_features)     \n",
    "    ],\n",
    "    remainder = \"passthrough\"\n",
    ")"
   ]
  },
  {
   "cell_type": "code",
   "execution_count": 10,
   "id": "c9d48d0e",
   "metadata": {},
   "outputs": [
    {
     "name": "stdout",
     "output_type": "stream",
     "text": [
      "Transformer initialized\n"
     ]
    },
    {
     "data": {
      "text/plain": [
       "ColumnTransformer(remainder='passthrough',\n",
       "                  transformers=[('transformation', TransformingColumns(),\n",
       "                                 ['gender', 'expiration', 'age', 'time',\n",
       "                                  'education', 'Bar', 'CoffeeHouse',\n",
       "                                  'CarryAway', 'RestaurantLessThan20',\n",
       "                                  'Restaurant20To50', 'income', 'car',\n",
       "                                  'toCoupon_GEQ5min']),\n",
       "                                ('cat', LeaveOneOutEncoder(sigma=0.1),\n",
       "                                 ['destination', 'passanger', 'weather',\n",
       "                                  'coupon', 'maritalStatus', 'occupation'])])"
      ]
     },
     "execution_count": 10,
     "metadata": {},
     "output_type": "execute_result"
    }
   ],
   "source": [
    "#Fit transformer to X_train, y_train\n",
    "prod_pipeline.fit(X_train, y_train)"
   ]
  },
  {
   "cell_type": "code",
   "execution_count": 11,
   "id": "14b58186",
   "metadata": {},
   "outputs": [
    {
     "data": {
      "text/plain": [
       "24"
      ]
     },
     "execution_count": 11,
     "metadata": {},
     "output_type": "execute_result"
    }
   ],
   "source": [
    "#Define columns\n",
    "data_columns = [\"gender\",\"expiration\",\"age\",\"time\",\"education\",\"Bar\",\n",
    "                  \"CoffeeHouse\",\"CarryAway\",\"RestaurantLessThan20\",\"Restaurant20To50\",\"income_ub\",\"income_lb\"]\n",
    "data_columns = data_columns + ['destination', 'passanger', 'weather', 'coupon', 'maritalStatus', 'occupation']\n",
    "data_columns = data_columns + ['temperature','has_children','toCoupon_GEQ15min', 'toCoupon_GEQ25min','direction_same', 'direction_opp']\n",
    "len(data_columns)"
   ]
  },
  {
   "cell_type": "code",
   "execution_count": 12,
   "id": "48b56bb8",
   "metadata": {},
   "outputs": [],
   "source": [
    "train_transformed = pd.DataFrame(prod_pipeline.transform(X_train), columns=data_columns)"
   ]
  },
  {
   "cell_type": "code",
   "execution_count": 13,
   "id": "4d6a45c0",
   "metadata": {},
   "outputs": [],
   "source": [
    "test_transformed = pd.DataFrame(prod_pipeline.transform(X_test), columns = data_columns)"
   ]
  },
  {
   "cell_type": "code",
   "execution_count": 14,
   "id": "ca28fd84",
   "metadata": {},
   "outputs": [],
   "source": [
    "#Attach response variable to both train and test sets\n",
    "train_transformed[\"Y\"] = y_train\n",
    "test_transformed[\"Y\"] = y_test"
   ]
  },
  {
   "cell_type": "code",
   "execution_count": 15,
   "id": "f339aed2",
   "metadata": {},
   "outputs": [],
   "source": [
    "#Export to .csv\n",
    "train_transformed.to_csv(\"transformed_train_data.csv\")\n",
    "train_transformed.to_csv(\"transformed_test_data.csv\")"
   ]
  },
  {
   "cell_type": "code",
   "execution_count": 16,
   "id": "838cab93",
   "metadata": {},
   "outputs": [
    {
     "name": "stdout",
     "output_type": "stream",
     "text": [
      "Transformer initialized\n"
     ]
    }
   ],
   "source": [
    "#Fit transform entire dataset\n",
    "coupon_transformed = prod_pipeline.fit_transform(df_features, response)"
   ]
  },
  {
   "cell_type": "code",
   "execution_count": 17,
   "id": "2a4af7e7",
   "metadata": {},
   "outputs": [],
   "source": [
    "coupon_transformed = pd.DataFrame(coupon_transformed, columns = data_columns)"
   ]
  },
  {
   "cell_type": "code",
   "execution_count": 18,
   "id": "3abc3e5d",
   "metadata": {},
   "outputs": [],
   "source": [
    "coupon_transformed[\"Y\"] = response"
   ]
  },
  {
   "cell_type": "code",
   "execution_count": 19,
   "id": "dee55572",
   "metadata": {},
   "outputs": [],
   "source": [
    "coupon_transformed.to_csv(\"coupon_transformed.csv\")"
   ]
  }
 ],
 "metadata": {
  "kernelspec": {
   "display_name": "Python 3 (ipykernel)",
   "language": "python",
   "name": "python3"
  },
  "language_info": {
   "codemirror_mode": {
    "name": "ipython",
    "version": 3
   },
   "file_extension": ".py",
   "mimetype": "text/x-python",
   "name": "python",
   "nbconvert_exporter": "python",
   "pygments_lexer": "ipython3",
   "version": "3.8.12"
  }
 },
 "nbformat": 4,
 "nbformat_minor": 5
}
