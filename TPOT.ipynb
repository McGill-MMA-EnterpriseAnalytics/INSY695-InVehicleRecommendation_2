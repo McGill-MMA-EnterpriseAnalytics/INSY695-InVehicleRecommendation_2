{
 "cells": [
  {
   "cell_type": "code",
   "execution_count": 1,
   "id": "6c437268",
   "metadata": {},
   "outputs": [],
   "source": [
    "#!pip install tpot"
   ]
  },
  {
   "cell_type": "code",
   "execution_count": 2,
   "id": "2e4b25e7",
   "metadata": {},
   "outputs": [],
   "source": [
    "#!pip install ipywidgets jupyter nbextension enable --py widgetsnbextension"
   ]
  },
  {
   "cell_type": "code",
   "execution_count": 3,
   "id": "095d9c98",
   "metadata": {},
   "outputs": [],
   "source": [
    "from tpot import TPOTClassifier\n",
    "import pandas as pd\n",
    "from sklearn.model_selection import train_test_split\n",
    "from sklearn.preprocessing import StandardScaler"
   ]
  },
  {
   "cell_type": "code",
   "execution_count": 4,
   "id": "bc078b43",
   "metadata": {},
   "outputs": [],
   "source": [
    "dataset = pd.read_csv('dataset.csv')"
   ]
  },
  {
   "cell_type": "code",
   "execution_count": 5,
   "id": "123dfc59",
   "metadata": {},
   "outputs": [],
   "source": [
    "standardizer = StandardScaler()"
   ]
  },
  {
   "cell_type": "markdown",
   "id": "e695fc71",
   "metadata": {},
   "source": [
    "### Using all columns"
   ]
  },
  {
   "cell_type": "code",
   "execution_count": 6,
   "id": "f2801e8b",
   "metadata": {},
   "outputs": [],
   "source": [
    "X = dataset.drop(axis=1, columns=['Y'])\n",
    "y = dataset['Y']"
   ]
  },
  {
   "cell_type": "code",
   "execution_count": 7,
   "id": "87fcab8c",
   "metadata": {},
   "outputs": [],
   "source": [
    "X_std = standardizer.fit_transform(X)"
   ]
  },
  {
   "cell_type": "code",
   "execution_count": 8,
   "id": "112193b8",
   "metadata": {},
   "outputs": [
    {
     "data": {
      "text/plain": [
       "((8878, 64), (3806, 64), (8878,), (3806,))"
      ]
     },
     "execution_count": 8,
     "metadata": {},
     "output_type": "execute_result"
    }
   ],
   "source": [
    "X_train, X_test, y_train, y_test = train_test_split(X_std, y, test_size=0.3)\n",
    "X_train.shape, X_test.shape, y_train.shape, y_test.shape"
   ]
  },
  {
   "cell_type": "code",
   "execution_count": 9,
   "id": "a1c84ab9",
   "metadata": {},
   "outputs": [
    {
     "data": {
      "application/vnd.jupyter.widget-view+json": {
       "model_id": "fdc85a3a23fe4eb8848e8ca6a29b5f21",
       "version_major": 2,
       "version_minor": 0
      },
      "text/plain": [
       "Optimization Progress:   0%|          | 0/100 [00:00<?, ?pipeline/s]"
      ]
     },
     "metadata": {},
     "output_type": "display_data"
    },
    {
     "name": "stdout",
     "output_type": "stream",
     "text": [
      "\n",
      "31.94 minutes have elapsed. TPOT will close down.\n",
      "TPOT closed during evaluation in one generation.\n",
      "WARNING: TPOT may not provide a good pipeline if TPOT is stopped/interrupted in a early generation.\n",
      "\n",
      "\n",
      "TPOT closed prematurely. Will use the current best pipeline.\n",
      "\n",
      "Best pipeline: GradientBoostingClassifier(input_matrix, learning_rate=0.5, max_depth=6, max_features=0.9000000000000001, min_samples_leaf=16, min_samples_split=6, n_estimators=100, subsample=1.0)\n",
      "0.755386232264845\n"
     ]
    }
   ],
   "source": [
    "tpot = TPOTClassifier(verbosity=2, max_time_mins=30)\n",
    "tpot.fit(X_train, y_train)\n",
    "print(tpot.score(X_test, y_test))"
   ]
  },
  {
   "cell_type": "code",
   "execution_count": 10,
   "id": "bfa40722",
   "metadata": {},
   "outputs": [
    {
     "data": {
      "text/plain": [
       "Pipeline(steps=[('gradientboostingclassifier',\n",
       "                 GradientBoostingClassifier(learning_rate=0.5, max_depth=6,\n",
       "                                            max_features=0.9000000000000001,\n",
       "                                            min_samples_leaf=16,\n",
       "                                            min_samples_split=6))])"
      ]
     },
     "execution_count": 10,
     "metadata": {},
     "output_type": "execute_result"
    }
   ],
   "source": [
    "tpot.fitted_pipeline_"
   ]
  },
  {
   "cell_type": "code",
   "execution_count": 11,
   "id": "312cf520",
   "metadata": {},
   "outputs": [
    {
     "name": "stdout",
     "output_type": "stream",
     "text": [
      "0.755386232264845\n"
     ]
    }
   ],
   "source": [
    "print(tpot.score(X_test, y_test))"
   ]
  },
  {
   "cell_type": "code",
   "execution_count": 12,
   "id": "f70fb91e",
   "metadata": {},
   "outputs": [],
   "source": [
    "tpot.export('tpot_coupon_dataset_all_columns.py')"
   ]
  },
  {
   "cell_type": "markdown",
   "id": "52937901",
   "metadata": {},
   "source": [
    "### Using columns based on feature importance - with demographics data"
   ]
  },
  {
   "cell_type": "markdown",
   "id": "f8f43086",
   "metadata": {},
   "source": [
    "In part-1 of this course, feature importance was selected based on RFE, LASSO and Random Forest.\n",
    "\n",
    "Best results were obtained with feature from Random Forest. Below is the list of best columns based on Random Forest feature importance."
   ]
  },
  {
   "cell_type": "code",
   "execution_count": 13,
   "id": "8c75f969",
   "metadata": {},
   "outputs": [],
   "source": [
    "imp_features = ['CoffeeHouse_ord','age','income_lb','income_ub','Bar_ord','education','time','CarryAway_ord','Rest20To50_ord','RestLT20_ord','expiration','coupon_Carry out & Take away','temperature','coupon_Restaurant(<20)','coupon_Bar','coupon_Coffee House','toCoupon_GEQ15min','gender','has_children','maritalStatus_Single','maritalStatus_Married partner','occupation_Unemployed','coupon_Restaurant(20-50)','passanger_Friend(s)']"
   ]
  },
  {
   "cell_type": "code",
   "execution_count": 14,
   "id": "3ce5cd29",
   "metadata": {},
   "outputs": [],
   "source": [
    "X = dataset[imp_features]\n",
    "y = dataset['Y']"
   ]
  },
  {
   "cell_type": "code",
   "execution_count": 15,
   "id": "537433e3",
   "metadata": {},
   "outputs": [
    {
     "data": {
      "text/html": [
       "<div>\n",
       "<style scoped>\n",
       "    .dataframe tbody tr th:only-of-type {\n",
       "        vertical-align: middle;\n",
       "    }\n",
       "\n",
       "    .dataframe tbody tr th {\n",
       "        vertical-align: top;\n",
       "    }\n",
       "\n",
       "    .dataframe thead th {\n",
       "        text-align: right;\n",
       "    }\n",
       "</style>\n",
       "<table border=\"1\" class=\"dataframe\">\n",
       "  <thead>\n",
       "    <tr style=\"text-align: right;\">\n",
       "      <th></th>\n",
       "      <th>CoffeeHouse_ord</th>\n",
       "      <th>age</th>\n",
       "      <th>income_lb</th>\n",
       "      <th>income_ub</th>\n",
       "      <th>Bar_ord</th>\n",
       "      <th>education</th>\n",
       "      <th>time</th>\n",
       "      <th>CarryAway_ord</th>\n",
       "      <th>Rest20To50_ord</th>\n",
       "      <th>RestLT20_ord</th>\n",
       "      <th>...</th>\n",
       "      <th>coupon_Bar</th>\n",
       "      <th>coupon_Coffee House</th>\n",
       "      <th>toCoupon_GEQ15min</th>\n",
       "      <th>gender</th>\n",
       "      <th>has_children</th>\n",
       "      <th>maritalStatus_Single</th>\n",
       "      <th>maritalStatus_Married partner</th>\n",
       "      <th>occupation_Unemployed</th>\n",
       "      <th>coupon_Restaurant(20-50)</th>\n",
       "      <th>passanger_Friend(s)</th>\n",
       "    </tr>\n",
       "  </thead>\n",
       "  <tbody>\n",
       "    <tr>\n",
       "      <th>0</th>\n",
       "      <td>0.0</td>\n",
       "      <td>21</td>\n",
       "      <td>37500</td>\n",
       "      <td>49999</td>\n",
       "      <td>0.0</td>\n",
       "      <td>3</td>\n",
       "      <td>14</td>\n",
       "      <td>2.0</td>\n",
       "      <td>2.0</td>\n",
       "      <td>3.0</td>\n",
       "      <td>...</td>\n",
       "      <td>0</td>\n",
       "      <td>0</td>\n",
       "      <td>0</td>\n",
       "      <td>1</td>\n",
       "      <td>1</td>\n",
       "      <td>0</td>\n",
       "      <td>0</td>\n",
       "      <td>1</td>\n",
       "      <td>0</td>\n",
       "      <td>0</td>\n",
       "    </tr>\n",
       "    <tr>\n",
       "      <th>1</th>\n",
       "      <td>0.0</td>\n",
       "      <td>21</td>\n",
       "      <td>37500</td>\n",
       "      <td>49999</td>\n",
       "      <td>0.0</td>\n",
       "      <td>3</td>\n",
       "      <td>10</td>\n",
       "      <td>2.0</td>\n",
       "      <td>2.0</td>\n",
       "      <td>3.0</td>\n",
       "      <td>...</td>\n",
       "      <td>0</td>\n",
       "      <td>1</td>\n",
       "      <td>0</td>\n",
       "      <td>1</td>\n",
       "      <td>1</td>\n",
       "      <td>0</td>\n",
       "      <td>0</td>\n",
       "      <td>1</td>\n",
       "      <td>0</td>\n",
       "      <td>1</td>\n",
       "    </tr>\n",
       "    <tr>\n",
       "      <th>2</th>\n",
       "      <td>0.0</td>\n",
       "      <td>21</td>\n",
       "      <td>37500</td>\n",
       "      <td>49999</td>\n",
       "      <td>0.0</td>\n",
       "      <td>3</td>\n",
       "      <td>10</td>\n",
       "      <td>2.0</td>\n",
       "      <td>2.0</td>\n",
       "      <td>3.0</td>\n",
       "      <td>...</td>\n",
       "      <td>0</td>\n",
       "      <td>0</td>\n",
       "      <td>1</td>\n",
       "      <td>1</td>\n",
       "      <td>1</td>\n",
       "      <td>0</td>\n",
       "      <td>0</td>\n",
       "      <td>1</td>\n",
       "      <td>0</td>\n",
       "      <td>1</td>\n",
       "    </tr>\n",
       "    <tr>\n",
       "      <th>3</th>\n",
       "      <td>0.0</td>\n",
       "      <td>21</td>\n",
       "      <td>37500</td>\n",
       "      <td>49999</td>\n",
       "      <td>0.0</td>\n",
       "      <td>3</td>\n",
       "      <td>14</td>\n",
       "      <td>2.0</td>\n",
       "      <td>2.0</td>\n",
       "      <td>3.0</td>\n",
       "      <td>...</td>\n",
       "      <td>0</td>\n",
       "      <td>1</td>\n",
       "      <td>1</td>\n",
       "      <td>1</td>\n",
       "      <td>1</td>\n",
       "      <td>0</td>\n",
       "      <td>0</td>\n",
       "      <td>1</td>\n",
       "      <td>0</td>\n",
       "      <td>1</td>\n",
       "    </tr>\n",
       "    <tr>\n",
       "      <th>4</th>\n",
       "      <td>0.0</td>\n",
       "      <td>21</td>\n",
       "      <td>37500</td>\n",
       "      <td>49999</td>\n",
       "      <td>0.0</td>\n",
       "      <td>3</td>\n",
       "      <td>14</td>\n",
       "      <td>2.0</td>\n",
       "      <td>2.0</td>\n",
       "      <td>3.0</td>\n",
       "      <td>...</td>\n",
       "      <td>0</td>\n",
       "      <td>1</td>\n",
       "      <td>1</td>\n",
       "      <td>1</td>\n",
       "      <td>1</td>\n",
       "      <td>0</td>\n",
       "      <td>0</td>\n",
       "      <td>1</td>\n",
       "      <td>0</td>\n",
       "      <td>1</td>\n",
       "    </tr>\n",
       "    <tr>\n",
       "      <th>...</th>\n",
       "      <td>...</td>\n",
       "      <td>...</td>\n",
       "      <td>...</td>\n",
       "      <td>...</td>\n",
       "      <td>...</td>\n",
       "      <td>...</td>\n",
       "      <td>...</td>\n",
       "      <td>...</td>\n",
       "      <td>...</td>\n",
       "      <td>...</td>\n",
       "      <td>...</td>\n",
       "      <td>...</td>\n",
       "      <td>...</td>\n",
       "      <td>...</td>\n",
       "      <td>...</td>\n",
       "      <td>...</td>\n",
       "      <td>...</td>\n",
       "      <td>...</td>\n",
       "      <td>...</td>\n",
       "      <td>...</td>\n",
       "      <td>...</td>\n",
       "    </tr>\n",
       "    <tr>\n",
       "      <th>12679</th>\n",
       "      <td>0.0</td>\n",
       "      <td>26</td>\n",
       "      <td>75000</td>\n",
       "      <td>87499</td>\n",
       "      <td>0.0</td>\n",
       "      <td>5</td>\n",
       "      <td>18</td>\n",
       "      <td>2.0</td>\n",
       "      <td>2.0</td>\n",
       "      <td>3.0</td>\n",
       "      <td>...</td>\n",
       "      <td>0</td>\n",
       "      <td>0</td>\n",
       "      <td>0</td>\n",
       "      <td>0</td>\n",
       "      <td>0</td>\n",
       "      <td>1</td>\n",
       "      <td>0</td>\n",
       "      <td>0</td>\n",
       "      <td>0</td>\n",
       "      <td>0</td>\n",
       "    </tr>\n",
       "    <tr>\n",
       "      <th>12680</th>\n",
       "      <td>0.0</td>\n",
       "      <td>26</td>\n",
       "      <td>75000</td>\n",
       "      <td>87499</td>\n",
       "      <td>0.0</td>\n",
       "      <td>5</td>\n",
       "      <td>7</td>\n",
       "      <td>2.0</td>\n",
       "      <td>2.0</td>\n",
       "      <td>3.0</td>\n",
       "      <td>...</td>\n",
       "      <td>0</td>\n",
       "      <td>0</td>\n",
       "      <td>0</td>\n",
       "      <td>0</td>\n",
       "      <td>0</td>\n",
       "      <td>1</td>\n",
       "      <td>0</td>\n",
       "      <td>0</td>\n",
       "      <td>0</td>\n",
       "      <td>0</td>\n",
       "    </tr>\n",
       "    <tr>\n",
       "      <th>12681</th>\n",
       "      <td>0.0</td>\n",
       "      <td>26</td>\n",
       "      <td>75000</td>\n",
       "      <td>87499</td>\n",
       "      <td>0.0</td>\n",
       "      <td>5</td>\n",
       "      <td>7</td>\n",
       "      <td>2.0</td>\n",
       "      <td>2.0</td>\n",
       "      <td>3.0</td>\n",
       "      <td>...</td>\n",
       "      <td>0</td>\n",
       "      <td>1</td>\n",
       "      <td>0</td>\n",
       "      <td>0</td>\n",
       "      <td>0</td>\n",
       "      <td>1</td>\n",
       "      <td>0</td>\n",
       "      <td>0</td>\n",
       "      <td>0</td>\n",
       "      <td>0</td>\n",
       "    </tr>\n",
       "    <tr>\n",
       "      <th>12682</th>\n",
       "      <td>0.0</td>\n",
       "      <td>26</td>\n",
       "      <td>75000</td>\n",
       "      <td>87499</td>\n",
       "      <td>0.0</td>\n",
       "      <td>5</td>\n",
       "      <td>7</td>\n",
       "      <td>2.0</td>\n",
       "      <td>2.0</td>\n",
       "      <td>3.0</td>\n",
       "      <td>...</td>\n",
       "      <td>1</td>\n",
       "      <td>0</td>\n",
       "      <td>1</td>\n",
       "      <td>0</td>\n",
       "      <td>0</td>\n",
       "      <td>1</td>\n",
       "      <td>0</td>\n",
       "      <td>0</td>\n",
       "      <td>0</td>\n",
       "      <td>0</td>\n",
       "    </tr>\n",
       "    <tr>\n",
       "      <th>12683</th>\n",
       "      <td>0.0</td>\n",
       "      <td>26</td>\n",
       "      <td>75000</td>\n",
       "      <td>87499</td>\n",
       "      <td>0.0</td>\n",
       "      <td>5</td>\n",
       "      <td>7</td>\n",
       "      <td>2.0</td>\n",
       "      <td>2.0</td>\n",
       "      <td>3.0</td>\n",
       "      <td>...</td>\n",
       "      <td>0</td>\n",
       "      <td>0</td>\n",
       "      <td>0</td>\n",
       "      <td>0</td>\n",
       "      <td>0</td>\n",
       "      <td>1</td>\n",
       "      <td>0</td>\n",
       "      <td>0</td>\n",
       "      <td>1</td>\n",
       "      <td>0</td>\n",
       "    </tr>\n",
       "  </tbody>\n",
       "</table>\n",
       "<p>12684 rows × 24 columns</p>\n",
       "</div>"
      ],
      "text/plain": [
       "       CoffeeHouse_ord  age  income_lb  income_ub  Bar_ord  education  time  \\\n",
       "0                  0.0   21      37500      49999      0.0          3    14   \n",
       "1                  0.0   21      37500      49999      0.0          3    10   \n",
       "2                  0.0   21      37500      49999      0.0          3    10   \n",
       "3                  0.0   21      37500      49999      0.0          3    14   \n",
       "4                  0.0   21      37500      49999      0.0          3    14   \n",
       "...                ...  ...        ...        ...      ...        ...   ...   \n",
       "12679              0.0   26      75000      87499      0.0          5    18   \n",
       "12680              0.0   26      75000      87499      0.0          5     7   \n",
       "12681              0.0   26      75000      87499      0.0          5     7   \n",
       "12682              0.0   26      75000      87499      0.0          5     7   \n",
       "12683              0.0   26      75000      87499      0.0          5     7   \n",
       "\n",
       "       CarryAway_ord  Rest20To50_ord  RestLT20_ord  ...  coupon_Bar  \\\n",
       "0                2.0             2.0           3.0  ...           0   \n",
       "1                2.0             2.0           3.0  ...           0   \n",
       "2                2.0             2.0           3.0  ...           0   \n",
       "3                2.0             2.0           3.0  ...           0   \n",
       "4                2.0             2.0           3.0  ...           0   \n",
       "...              ...             ...           ...  ...         ...   \n",
       "12679            2.0             2.0           3.0  ...           0   \n",
       "12680            2.0             2.0           3.0  ...           0   \n",
       "12681            2.0             2.0           3.0  ...           0   \n",
       "12682            2.0             2.0           3.0  ...           1   \n",
       "12683            2.0             2.0           3.0  ...           0   \n",
       "\n",
       "       coupon_Coffee House  toCoupon_GEQ15min  gender  has_children  \\\n",
       "0                        0                  0       1             1   \n",
       "1                        1                  0       1             1   \n",
       "2                        0                  1       1             1   \n",
       "3                        1                  1       1             1   \n",
       "4                        1                  1       1             1   \n",
       "...                    ...                ...     ...           ...   \n",
       "12679                    0                  0       0             0   \n",
       "12680                    0                  0       0             0   \n",
       "12681                    1                  0       0             0   \n",
       "12682                    0                  1       0             0   \n",
       "12683                    0                  0       0             0   \n",
       "\n",
       "       maritalStatus_Single  maritalStatus_Married partner  \\\n",
       "0                         0                              0   \n",
       "1                         0                              0   \n",
       "2                         0                              0   \n",
       "3                         0                              0   \n",
       "4                         0                              0   \n",
       "...                     ...                            ...   \n",
       "12679                     1                              0   \n",
       "12680                     1                              0   \n",
       "12681                     1                              0   \n",
       "12682                     1                              0   \n",
       "12683                     1                              0   \n",
       "\n",
       "       occupation_Unemployed  coupon_Restaurant(20-50)  passanger_Friend(s)  \n",
       "0                          1                         0                    0  \n",
       "1                          1                         0                    1  \n",
       "2                          1                         0                    1  \n",
       "3                          1                         0                    1  \n",
       "4                          1                         0                    1  \n",
       "...                      ...                       ...                  ...  \n",
       "12679                      0                         0                    0  \n",
       "12680                      0                         0                    0  \n",
       "12681                      0                         0                    0  \n",
       "12682                      0                         0                    0  \n",
       "12683                      0                         1                    0  \n",
       "\n",
       "[12684 rows x 24 columns]"
      ]
     },
     "execution_count": 15,
     "metadata": {},
     "output_type": "execute_result"
    }
   ],
   "source": [
    "X"
   ]
  },
  {
   "cell_type": "code",
   "execution_count": 16,
   "id": "5a3fa8e9",
   "metadata": {},
   "outputs": [],
   "source": [
    "X_std = standardizer.fit_transform(X)"
   ]
  },
  {
   "cell_type": "code",
   "execution_count": 17,
   "id": "a2e01011",
   "metadata": {},
   "outputs": [
    {
     "data": {
      "text/plain": [
       "((8878, 24), (3806, 24), (8878,), (3806,))"
      ]
     },
     "execution_count": 17,
     "metadata": {},
     "output_type": "execute_result"
    }
   ],
   "source": [
    "X_train, X_test, y_train, y_test = train_test_split(X_std, y, test_size=0.3)\n",
    "X_train.shape, X_test.shape, y_train.shape, y_test.shape"
   ]
  },
  {
   "cell_type": "code",
   "execution_count": 18,
   "id": "5b9ca125",
   "metadata": {},
   "outputs": [
    {
     "data": {
      "application/vnd.jupyter.widget-view+json": {
       "model_id": "6e2763795c244679802fc11da4beacc8",
       "version_major": 2,
       "version_minor": 0
      },
      "text/plain": [
       "Optimization Progress:   0%|          | 0/100 [00:00<?, ?pipeline/s]"
      ]
     },
     "metadata": {},
     "output_type": "display_data"
    },
    {
     "name": "stdout",
     "output_type": "stream",
     "text": [
      "\n",
      "30.23 minutes have elapsed. TPOT will close down.\n",
      "TPOT closed during evaluation in one generation.\n",
      "WARNING: TPOT may not provide a good pipeline if TPOT is stopped/interrupted in a early generation.\n",
      "\n",
      "\n",
      "TPOT closed prematurely. Will use the current best pipeline.\n",
      "\n",
      "Best pipeline: RandomForestClassifier(MaxAbsScaler(input_matrix), bootstrap=False, criterion=entropy, max_features=0.25, min_samples_leaf=2, min_samples_split=7, n_estimators=100)\n",
      "0.7574881765633211\n"
     ]
    }
   ],
   "source": [
    "tpot = TPOTClassifier(verbosity=2, max_time_mins=30)\n",
    "tpot.fit(X_train, y_train)\n",
    "print(tpot.score(X_test, y_test))"
   ]
  },
  {
   "cell_type": "code",
   "execution_count": 19,
   "id": "a0878bc1",
   "metadata": {},
   "outputs": [
    {
     "data": {
      "text/plain": [
       "Pipeline(steps=[('maxabsscaler', MaxAbsScaler()),\n",
       "                ('randomforestclassifier',\n",
       "                 RandomForestClassifier(bootstrap=False, criterion='entropy',\n",
       "                                        max_features=0.25, min_samples_leaf=2,\n",
       "                                        min_samples_split=7))])"
      ]
     },
     "execution_count": 19,
     "metadata": {},
     "output_type": "execute_result"
    }
   ],
   "source": [
    "tpot.fitted_pipeline_"
   ]
  },
  {
   "cell_type": "code",
   "execution_count": 20,
   "id": "07f8882c",
   "metadata": {},
   "outputs": [
    {
     "name": "stdout",
     "output_type": "stream",
     "text": [
      "0.7574881765633211\n"
     ]
    }
   ],
   "source": [
    "print(tpot.score(X_test, y_test))"
   ]
  },
  {
   "cell_type": "code",
   "execution_count": 21,
   "id": "612fea88",
   "metadata": {},
   "outputs": [],
   "source": [
    "tpot.export('tpot_coupon_dataset_feature_imp_demographics.py')"
   ]
  },
  {
   "cell_type": "markdown",
   "id": "63b3c2ed",
   "metadata": {},
   "source": [
    "### Using columns based on feature importance - without demographics data"
   ]
  },
  {
   "cell_type": "code",
   "execution_count": 25,
   "id": "da368763",
   "metadata": {},
   "outputs": [],
   "source": [
    "imp_features = ['CoffeeHouse_ord', 'Bar_ord', 'CarryAway_ord', 'RestLT20_ord', 'Rest20To50_ord', 'time', 'expiration', 'coupon_Carry out & Take away', 'temperature', 'toCoupon_GEQ15min', 'coupon_Restaurant(<20)', 'coupon_Bar','coupon_Coffee House','destination_No Urgent Place', 'coupon_Restaurant(20-50)', 'weather_Sunny', 'toCoupon_GEQ25min', 'destination_Home', 'direction_same', 'direction_opp', 'destination_Work', 'weather_Rainy', 'weather_Snowy']"
   ]
  },
  {
   "cell_type": "code",
   "execution_count": 26,
   "id": "0edd4f91",
   "metadata": {},
   "outputs": [],
   "source": [
    "X = dataset[imp_features]\n",
    "y = dataset['Y']"
   ]
  },
  {
   "cell_type": "code",
   "execution_count": 27,
   "id": "c2a005fa",
   "metadata": {},
   "outputs": [
    {
     "data": {
      "text/html": [
       "<div>\n",
       "<style scoped>\n",
       "    .dataframe tbody tr th:only-of-type {\n",
       "        vertical-align: middle;\n",
       "    }\n",
       "\n",
       "    .dataframe tbody tr th {\n",
       "        vertical-align: top;\n",
       "    }\n",
       "\n",
       "    .dataframe thead th {\n",
       "        text-align: right;\n",
       "    }\n",
       "</style>\n",
       "<table border=\"1\" class=\"dataframe\">\n",
       "  <thead>\n",
       "    <tr style=\"text-align: right;\">\n",
       "      <th></th>\n",
       "      <th>CoffeeHouse_ord</th>\n",
       "      <th>Bar_ord</th>\n",
       "      <th>CarryAway_ord</th>\n",
       "      <th>RestLT20_ord</th>\n",
       "      <th>Rest20To50_ord</th>\n",
       "      <th>time</th>\n",
       "      <th>expiration</th>\n",
       "      <th>coupon_Carry out &amp; Take away</th>\n",
       "      <th>temperature</th>\n",
       "      <th>toCoupon_GEQ15min</th>\n",
       "      <th>...</th>\n",
       "      <th>destination_No Urgent Place</th>\n",
       "      <th>coupon_Restaurant(20-50)</th>\n",
       "      <th>weather_Sunny</th>\n",
       "      <th>toCoupon_GEQ25min</th>\n",
       "      <th>destination_Home</th>\n",
       "      <th>direction_same</th>\n",
       "      <th>direction_opp</th>\n",
       "      <th>destination_Work</th>\n",
       "      <th>weather_Rainy</th>\n",
       "      <th>weather_Snowy</th>\n",
       "    </tr>\n",
       "  </thead>\n",
       "  <tbody>\n",
       "    <tr>\n",
       "      <th>0</th>\n",
       "      <td>0.0</td>\n",
       "      <td>0.0</td>\n",
       "      <td>2.0</td>\n",
       "      <td>3.0</td>\n",
       "      <td>2.0</td>\n",
       "      <td>14</td>\n",
       "      <td>24</td>\n",
       "      <td>0</td>\n",
       "      <td>55</td>\n",
       "      <td>0</td>\n",
       "      <td>...</td>\n",
       "      <td>1</td>\n",
       "      <td>0</td>\n",
       "      <td>1</td>\n",
       "      <td>0</td>\n",
       "      <td>0</td>\n",
       "      <td>0</td>\n",
       "      <td>1</td>\n",
       "      <td>0</td>\n",
       "      <td>0</td>\n",
       "      <td>0</td>\n",
       "    </tr>\n",
       "    <tr>\n",
       "      <th>1</th>\n",
       "      <td>0.0</td>\n",
       "      <td>0.0</td>\n",
       "      <td>2.0</td>\n",
       "      <td>3.0</td>\n",
       "      <td>2.0</td>\n",
       "      <td>10</td>\n",
       "      <td>2</td>\n",
       "      <td>0</td>\n",
       "      <td>80</td>\n",
       "      <td>0</td>\n",
       "      <td>...</td>\n",
       "      <td>1</td>\n",
       "      <td>0</td>\n",
       "      <td>1</td>\n",
       "      <td>0</td>\n",
       "      <td>0</td>\n",
       "      <td>0</td>\n",
       "      <td>1</td>\n",
       "      <td>0</td>\n",
       "      <td>0</td>\n",
       "      <td>0</td>\n",
       "    </tr>\n",
       "    <tr>\n",
       "      <th>2</th>\n",
       "      <td>0.0</td>\n",
       "      <td>0.0</td>\n",
       "      <td>2.0</td>\n",
       "      <td>3.0</td>\n",
       "      <td>2.0</td>\n",
       "      <td>10</td>\n",
       "      <td>2</td>\n",
       "      <td>1</td>\n",
       "      <td>80</td>\n",
       "      <td>1</td>\n",
       "      <td>...</td>\n",
       "      <td>1</td>\n",
       "      <td>0</td>\n",
       "      <td>1</td>\n",
       "      <td>0</td>\n",
       "      <td>0</td>\n",
       "      <td>0</td>\n",
       "      <td>1</td>\n",
       "      <td>0</td>\n",
       "      <td>0</td>\n",
       "      <td>0</td>\n",
       "    </tr>\n",
       "    <tr>\n",
       "      <th>3</th>\n",
       "      <td>0.0</td>\n",
       "      <td>0.0</td>\n",
       "      <td>2.0</td>\n",
       "      <td>3.0</td>\n",
       "      <td>2.0</td>\n",
       "      <td>14</td>\n",
       "      <td>2</td>\n",
       "      <td>0</td>\n",
       "      <td>80</td>\n",
       "      <td>1</td>\n",
       "      <td>...</td>\n",
       "      <td>1</td>\n",
       "      <td>0</td>\n",
       "      <td>1</td>\n",
       "      <td>0</td>\n",
       "      <td>0</td>\n",
       "      <td>0</td>\n",
       "      <td>1</td>\n",
       "      <td>0</td>\n",
       "      <td>0</td>\n",
       "      <td>0</td>\n",
       "    </tr>\n",
       "    <tr>\n",
       "      <th>4</th>\n",
       "      <td>0.0</td>\n",
       "      <td>0.0</td>\n",
       "      <td>2.0</td>\n",
       "      <td>3.0</td>\n",
       "      <td>2.0</td>\n",
       "      <td>14</td>\n",
       "      <td>24</td>\n",
       "      <td>0</td>\n",
       "      <td>80</td>\n",
       "      <td>1</td>\n",
       "      <td>...</td>\n",
       "      <td>1</td>\n",
       "      <td>0</td>\n",
       "      <td>1</td>\n",
       "      <td>0</td>\n",
       "      <td>0</td>\n",
       "      <td>0</td>\n",
       "      <td>1</td>\n",
       "      <td>0</td>\n",
       "      <td>0</td>\n",
       "      <td>0</td>\n",
       "    </tr>\n",
       "    <tr>\n",
       "      <th>...</th>\n",
       "      <td>...</td>\n",
       "      <td>...</td>\n",
       "      <td>...</td>\n",
       "      <td>...</td>\n",
       "      <td>...</td>\n",
       "      <td>...</td>\n",
       "      <td>...</td>\n",
       "      <td>...</td>\n",
       "      <td>...</td>\n",
       "      <td>...</td>\n",
       "      <td>...</td>\n",
       "      <td>...</td>\n",
       "      <td>...</td>\n",
       "      <td>...</td>\n",
       "      <td>...</td>\n",
       "      <td>...</td>\n",
       "      <td>...</td>\n",
       "      <td>...</td>\n",
       "      <td>...</td>\n",
       "      <td>...</td>\n",
       "      <td>...</td>\n",
       "    </tr>\n",
       "    <tr>\n",
       "      <th>12679</th>\n",
       "      <td>0.0</td>\n",
       "      <td>0.0</td>\n",
       "      <td>2.0</td>\n",
       "      <td>3.0</td>\n",
       "      <td>2.0</td>\n",
       "      <td>18</td>\n",
       "      <td>24</td>\n",
       "      <td>1</td>\n",
       "      <td>55</td>\n",
       "      <td>0</td>\n",
       "      <td>...</td>\n",
       "      <td>0</td>\n",
       "      <td>0</td>\n",
       "      <td>0</td>\n",
       "      <td>0</td>\n",
       "      <td>1</td>\n",
       "      <td>1</td>\n",
       "      <td>0</td>\n",
       "      <td>0</td>\n",
       "      <td>1</td>\n",
       "      <td>0</td>\n",
       "    </tr>\n",
       "    <tr>\n",
       "      <th>12680</th>\n",
       "      <td>0.0</td>\n",
       "      <td>0.0</td>\n",
       "      <td>2.0</td>\n",
       "      <td>3.0</td>\n",
       "      <td>2.0</td>\n",
       "      <td>7</td>\n",
       "      <td>24</td>\n",
       "      <td>1</td>\n",
       "      <td>55</td>\n",
       "      <td>0</td>\n",
       "      <td>...</td>\n",
       "      <td>0</td>\n",
       "      <td>0</td>\n",
       "      <td>0</td>\n",
       "      <td>0</td>\n",
       "      <td>0</td>\n",
       "      <td>0</td>\n",
       "      <td>1</td>\n",
       "      <td>1</td>\n",
       "      <td>1</td>\n",
       "      <td>0</td>\n",
       "    </tr>\n",
       "    <tr>\n",
       "      <th>12681</th>\n",
       "      <td>0.0</td>\n",
       "      <td>0.0</td>\n",
       "      <td>2.0</td>\n",
       "      <td>3.0</td>\n",
       "      <td>2.0</td>\n",
       "      <td>7</td>\n",
       "      <td>24</td>\n",
       "      <td>0</td>\n",
       "      <td>30</td>\n",
       "      <td>0</td>\n",
       "      <td>...</td>\n",
       "      <td>0</td>\n",
       "      <td>0</td>\n",
       "      <td>0</td>\n",
       "      <td>0</td>\n",
       "      <td>0</td>\n",
       "      <td>1</td>\n",
       "      <td>0</td>\n",
       "      <td>1</td>\n",
       "      <td>0</td>\n",
       "      <td>1</td>\n",
       "    </tr>\n",
       "    <tr>\n",
       "      <th>12682</th>\n",
       "      <td>0.0</td>\n",
       "      <td>0.0</td>\n",
       "      <td>2.0</td>\n",
       "      <td>3.0</td>\n",
       "      <td>2.0</td>\n",
       "      <td>7</td>\n",
       "      <td>24</td>\n",
       "      <td>0</td>\n",
       "      <td>30</td>\n",
       "      <td>1</td>\n",
       "      <td>...</td>\n",
       "      <td>0</td>\n",
       "      <td>0</td>\n",
       "      <td>0</td>\n",
       "      <td>1</td>\n",
       "      <td>0</td>\n",
       "      <td>0</td>\n",
       "      <td>1</td>\n",
       "      <td>1</td>\n",
       "      <td>0</td>\n",
       "      <td>1</td>\n",
       "    </tr>\n",
       "    <tr>\n",
       "      <th>12683</th>\n",
       "      <td>0.0</td>\n",
       "      <td>0.0</td>\n",
       "      <td>2.0</td>\n",
       "      <td>3.0</td>\n",
       "      <td>2.0</td>\n",
       "      <td>7</td>\n",
       "      <td>2</td>\n",
       "      <td>0</td>\n",
       "      <td>80</td>\n",
       "      <td>0</td>\n",
       "      <td>...</td>\n",
       "      <td>0</td>\n",
       "      <td>1</td>\n",
       "      <td>1</td>\n",
       "      <td>0</td>\n",
       "      <td>0</td>\n",
       "      <td>1</td>\n",
       "      <td>0</td>\n",
       "      <td>1</td>\n",
       "      <td>0</td>\n",
       "      <td>0</td>\n",
       "    </tr>\n",
       "  </tbody>\n",
       "</table>\n",
       "<p>12684 rows × 23 columns</p>\n",
       "</div>"
      ],
      "text/plain": [
       "       CoffeeHouse_ord  Bar_ord  CarryAway_ord  RestLT20_ord  Rest20To50_ord  \\\n",
       "0                  0.0      0.0            2.0           3.0             2.0   \n",
       "1                  0.0      0.0            2.0           3.0             2.0   \n",
       "2                  0.0      0.0            2.0           3.0             2.0   \n",
       "3                  0.0      0.0            2.0           3.0             2.0   \n",
       "4                  0.0      0.0            2.0           3.0             2.0   \n",
       "...                ...      ...            ...           ...             ...   \n",
       "12679              0.0      0.0            2.0           3.0             2.0   \n",
       "12680              0.0      0.0            2.0           3.0             2.0   \n",
       "12681              0.0      0.0            2.0           3.0             2.0   \n",
       "12682              0.0      0.0            2.0           3.0             2.0   \n",
       "12683              0.0      0.0            2.0           3.0             2.0   \n",
       "\n",
       "       time  expiration  coupon_Carry out & Take away  temperature  \\\n",
       "0        14          24                             0           55   \n",
       "1        10           2                             0           80   \n",
       "2        10           2                             1           80   \n",
       "3        14           2                             0           80   \n",
       "4        14          24                             0           80   \n",
       "...     ...         ...                           ...          ...   \n",
       "12679    18          24                             1           55   \n",
       "12680     7          24                             1           55   \n",
       "12681     7          24                             0           30   \n",
       "12682     7          24                             0           30   \n",
       "12683     7           2                             0           80   \n",
       "\n",
       "       toCoupon_GEQ15min  ...  destination_No Urgent Place  \\\n",
       "0                      0  ...                            1   \n",
       "1                      0  ...                            1   \n",
       "2                      1  ...                            1   \n",
       "3                      1  ...                            1   \n",
       "4                      1  ...                            1   \n",
       "...                  ...  ...                          ...   \n",
       "12679                  0  ...                            0   \n",
       "12680                  0  ...                            0   \n",
       "12681                  0  ...                            0   \n",
       "12682                  1  ...                            0   \n",
       "12683                  0  ...                            0   \n",
       "\n",
       "       coupon_Restaurant(20-50)  weather_Sunny  toCoupon_GEQ25min  \\\n",
       "0                             0              1                  0   \n",
       "1                             0              1                  0   \n",
       "2                             0              1                  0   \n",
       "3                             0              1                  0   \n",
       "4                             0              1                  0   \n",
       "...                         ...            ...                ...   \n",
       "12679                         0              0                  0   \n",
       "12680                         0              0                  0   \n",
       "12681                         0              0                  0   \n",
       "12682                         0              0                  1   \n",
       "12683                         1              1                  0   \n",
       "\n",
       "       destination_Home  direction_same  direction_opp  destination_Work  \\\n",
       "0                     0               0              1                 0   \n",
       "1                     0               0              1                 0   \n",
       "2                     0               0              1                 0   \n",
       "3                     0               0              1                 0   \n",
       "4                     0               0              1                 0   \n",
       "...                 ...             ...            ...               ...   \n",
       "12679                 1               1              0                 0   \n",
       "12680                 0               0              1                 1   \n",
       "12681                 0               1              0                 1   \n",
       "12682                 0               0              1                 1   \n",
       "12683                 0               1              0                 1   \n",
       "\n",
       "       weather_Rainy  weather_Snowy  \n",
       "0                  0              0  \n",
       "1                  0              0  \n",
       "2                  0              0  \n",
       "3                  0              0  \n",
       "4                  0              0  \n",
       "...              ...            ...  \n",
       "12679              1              0  \n",
       "12680              1              0  \n",
       "12681              0              1  \n",
       "12682              0              1  \n",
       "12683              0              0  \n",
       "\n",
       "[12684 rows x 23 columns]"
      ]
     },
     "execution_count": 27,
     "metadata": {},
     "output_type": "execute_result"
    }
   ],
   "source": [
    "X"
   ]
  },
  {
   "cell_type": "code",
   "execution_count": 28,
   "id": "eb6b7a03",
   "metadata": {},
   "outputs": [],
   "source": [
    "X_std = standardizer.fit_transform(X)"
   ]
  },
  {
   "cell_type": "code",
   "execution_count": 29,
   "id": "f5ba1d96",
   "metadata": {},
   "outputs": [
    {
     "data": {
      "text/plain": [
       "((8878, 23), (3806, 23), (8878,), (3806,))"
      ]
     },
     "execution_count": 29,
     "metadata": {},
     "output_type": "execute_result"
    }
   ],
   "source": [
    "X_train, X_test, y_train, y_test = train_test_split(X_std, y, test_size=0.3)\n",
    "X_train.shape, X_test.shape, y_train.shape, y_test.shape"
   ]
  },
  {
   "cell_type": "code",
   "execution_count": 30,
   "id": "44bd9260",
   "metadata": {},
   "outputs": [
    {
     "data": {
      "application/vnd.jupyter.widget-view+json": {
       "model_id": "2d0765a4886d4991b25ddf6a739581df",
       "version_major": 2,
       "version_minor": 0
      },
      "text/plain": [
       "Optimization Progress:   0%|          | 0/100 [00:00<?, ?pipeline/s]"
      ]
     },
     "metadata": {},
     "output_type": "display_data"
    },
    {
     "name": "stdout",
     "output_type": "stream",
     "text": [
      "\n",
      "30.28 minutes have elapsed. TPOT will close down.\n",
      "TPOT closed during evaluation in one generation.\n",
      "WARNING: TPOT may not provide a good pipeline if TPOT is stopped/interrupted in a early generation.\n",
      "\n",
      "\n",
      "TPOT closed prematurely. Will use the current best pipeline.\n",
      "\n",
      "Best pipeline: XGBClassifier(input_matrix, learning_rate=0.1, max_depth=6, min_child_weight=4, n_estimators=100, n_jobs=1, subsample=0.4, verbosity=0)\n",
      "0.7341040462427746\n"
     ]
    }
   ],
   "source": [
    "tpot = TPOTClassifier(verbosity=2, max_time_mins=30)\n",
    "tpot.fit(X_train, y_train)\n",
    "print(tpot.score(X_test, y_test))"
   ]
  },
  {
   "cell_type": "code",
   "execution_count": 31,
   "id": "d0512a57",
   "metadata": {},
   "outputs": [
    {
     "data": {
      "text/plain": [
       "Pipeline(steps=[('xgbclassifier',\n",
       "                 XGBClassifier(base_score=0.5, booster='gbtree',\n",
       "                               colsample_bylevel=1, colsample_bynode=1,\n",
       "                               colsample_bytree=1, enable_categorical=False,\n",
       "                               gamma=0, gpu_id=-1, importance_type=None,\n",
       "                               interaction_constraints='', learning_rate=0.1,\n",
       "                               max_delta_step=0, max_depth=6,\n",
       "                               min_child_weight=4, missing=nan,\n",
       "                               monotone_constraints='()', n_estimators=100,\n",
       "                               n_jobs=1, num_parallel_tree=1, predictor='auto',\n",
       "                               random_state=0, reg_alpha=0, reg_lambda=1,\n",
       "                               scale_pos_weight=1, subsample=0.4,\n",
       "                               tree_method='exact', validate_parameters=1,\n",
       "                               verbosity=0))])"
      ]
     },
     "execution_count": 31,
     "metadata": {},
     "output_type": "execute_result"
    }
   ],
   "source": [
    "tpot.fitted_pipeline_"
   ]
  },
  {
   "cell_type": "code",
   "execution_count": 32,
   "id": "b8468cb3",
   "metadata": {},
   "outputs": [
    {
     "name": "stdout",
     "output_type": "stream",
     "text": [
      "0.7341040462427746\n"
     ]
    }
   ],
   "source": [
    "print(tpot.score(X_test, y_test))"
   ]
  },
  {
   "cell_type": "code",
   "execution_count": 33,
   "id": "51ce3e74",
   "metadata": {},
   "outputs": [],
   "source": [
    "tpot.export('tpot_coupon_dataset_feature_imp.py')"
   ]
  },
  {
   "cell_type": "code",
   "execution_count": null,
   "id": "978f5972",
   "metadata": {},
   "outputs": [],
   "source": []
  }
 ],
 "metadata": {
  "kernelspec": {
   "display_name": "Python 3",
   "language": "python",
   "name": "python3"
  },
  "language_info": {
   "codemirror_mode": {
    "name": "ipython",
    "version": 3
   },
   "file_extension": ".py",
   "mimetype": "text/x-python",
   "name": "python",
   "nbconvert_exporter": "python",
   "pygments_lexer": "ipython3",
   "version": "3.8.8"
  }
 },
 "nbformat": 4,
 "nbformat_minor": 5
}
