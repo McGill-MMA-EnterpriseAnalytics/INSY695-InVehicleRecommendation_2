{
 "cells": [
  {
   "cell_type": "code",
   "execution_count": 1,
   "id": "095d9c98",
   "metadata": {},
   "outputs": [],
   "source": [
    "import pandas as pd\n",
    "from sklearn.ensemble import RandomForestClassifier\n",
    "from sklearn.metrics import accuracy_score, classification_report, f1_score\n",
    "from sklearn.model_selection import cross_val_score\n",
    "import optuna\n",
    "import warnings\n",
    "warnings.filterwarnings('ignore')"
   ]
  },
  {
   "cell_type": "code",
   "execution_count": 2,
   "id": "bc078b43",
   "metadata": {},
   "outputs": [],
   "source": [
    "dataset = pd.read_csv('new_data.csv')"
   ]
  },
  {
   "cell_type": "code",
   "execution_count": 3,
   "id": "3ce5cd29",
   "metadata": {},
   "outputs": [],
   "source": [
    "X = dataset.drop(axis=1, columns=['Y'])\n",
    "y = dataset['Y']"
   ]
  },
  {
   "cell_type": "markdown",
   "id": "19bef0c2",
   "metadata": {},
   "source": [
    "### Optuna"
   ]
  },
  {
   "cell_type": "code",
   "execution_count": 4,
   "id": "da3bf850",
   "metadata": {},
   "outputs": [],
   "source": [
    "def objective(trial):\n",
    "    min_samples_split = trial.suggest_int(\"min_samples_split\", 7, 11)\n",
    "    n_estimators = trial.suggest_int(\"n_estimators\", 150, 350)\n",
    "    max_features = trial.suggest_float(\"max_features\", 0.3, 0.9)\n",
    "    criterion = trial.suggest_categorical(\"criterion\", ['entropy', 'gini'])\n",
    "    bootstrap = trial.suggest_categorical(\"bootstrap\", [True, False])\n",
    "   \n",
    "    rf_model = RandomForestClassifier(\n",
    "        criterion = criterion,\n",
    "        bootstrap = bootstrap,\n",
    "        max_features = max_features,\n",
    "        min_samples_split = min_samples_split,\n",
    "        n_estimators = n_estimators)\n",
    "    score = cross_val_score(rf_model, X, y,  cv=5).mean()\n",
    "    return score"
   ]
  },
  {
   "cell_type": "code",
   "execution_count": 5,
   "id": "55dfa3f6",
   "metadata": {},
   "outputs": [
    {
     "name": "stderr",
     "output_type": "stream",
     "text": [
      "\u001b[32m[I 2022-04-19 00:26:44,664]\u001b[0m A new study created in memory with name: no-name-2e2edd85-d4a7-4640-ba15-9b5fa1097443\u001b[0m\n",
      "\u001b[32m[I 2022-04-19 00:28:18,479]\u001b[0m Trial 0 finished with value: 0.7374654482740614 and parameters: {'min_samples_split': 8, 'n_estimators': 322, 'max_features': 0.468721255424552, 'criterion': 'entropy', 'bootstrap': True}. Best is trial 0 with value: 0.7374654482740614.\u001b[0m\n",
      "\u001b[32m[I 2022-04-19 00:29:25,886]\u001b[0m Trial 1 finished with value: 0.7353361418203024 and parameters: {'min_samples_split': 9, 'n_estimators': 229, 'max_features': 0.5439998909222009, 'criterion': 'entropy', 'bootstrap': False}. Best is trial 0 with value: 0.7374654482740614.\u001b[0m\n",
      "\u001b[32m[I 2022-04-19 00:30:51,310]\u001b[0m Trial 2 finished with value: 0.7371495867470583 and parameters: {'min_samples_split': 9, 'n_estimators': 319, 'max_features': 0.5115407792379894, 'criterion': 'entropy', 'bootstrap': False}. Best is trial 0 with value: 0.7374654482740614.\u001b[0m\n",
      "\u001b[32m[I 2022-04-19 00:31:43,315]\u001b[0m Trial 3 finished with value: 0.7373076573960899 and parameters: {'min_samples_split': 9, 'n_estimators': 319, 'max_features': 0.545884141348852, 'criterion': 'gini', 'bootstrap': True}. Best is trial 0 with value: 0.7374654482740614.\u001b[0m\n",
      "\u001b[32m[I 2022-04-19 00:32:25,816]\u001b[0m Trial 4 finished with value: 0.7392784890870635 and parameters: {'min_samples_split': 8, 'n_estimators': 312, 'max_features': 0.42472404164733124, 'criterion': 'gini', 'bootstrap': True}. Best is trial 4 with value: 0.7392784890870635.\u001b[0m\n",
      "\u001b[32m[I 2022-04-19 00:33:27,709]\u001b[0m Trial 5 finished with value: 0.7401456239454185 and parameters: {'min_samples_split': 11, 'n_estimators': 271, 'max_features': 0.4950768786025981, 'criterion': 'gini', 'bootstrap': False}. Best is trial 5 with value: 0.7401456239454185.\u001b[0m\n",
      "\u001b[32m[I 2022-04-19 00:33:57,371]\u001b[0m Trial 6 finished with value: 0.7358097009682567 and parameters: {'min_samples_split': 10, 'n_estimators': 213, 'max_features': 0.3738170120958675, 'criterion': 'entropy', 'bootstrap': True}. Best is trial 5 with value: 0.7401456239454185.\u001b[0m\n",
      "\u001b[32m[I 2022-04-19 00:34:30,482]\u001b[0m Trial 7 finished with value: 0.7386478229459519 and parameters: {'min_samples_split': 7, 'n_estimators': 249, 'max_features': 0.3541652860492013, 'criterion': 'entropy', 'bootstrap': True}. Best is trial 5 with value: 0.7401456239454185.\u001b[0m\n",
      "\u001b[32m[I 2022-04-19 00:36:04,017]\u001b[0m Trial 8 finished with value: 0.7312369362457708 and parameters: {'min_samples_split': 8, 'n_estimators': 341, 'max_features': 0.8516218580988555, 'criterion': 'entropy', 'bootstrap': True}. Best is trial 5 with value: 0.7401456239454185.\u001b[0m\n",
      "\u001b[32m[I 2022-04-19 00:37:29,858]\u001b[0m Trial 9 finished with value: 0.7297382648474502 and parameters: {'min_samples_split': 11, 'n_estimators': 239, 'max_features': 0.7086417387341444, 'criterion': 'entropy', 'bootstrap': False}. Best is trial 5 with value: 0.7401456239454185.\u001b[0m\n"
     ]
    }
   ],
   "source": [
    "study = optuna.create_study(direction = \"maximize\")\n",
    "study.optimize(objective, n_trials = 10)\n",
    "trial = study.best_trial"
   ]
  },
  {
   "cell_type": "code",
   "execution_count": 6,
   "id": "b4a74cf8",
   "metadata": {},
   "outputs": [
    {
     "name": "stdout",
     "output_type": "stream",
     "text": [
      "Best Score:  0.7401456239454185\n",
      "Best Params: \n",
      "  min_samples_split: 11\n",
      "  n_estimators: 271\n",
      "  max_features: 0.4950768786025981\n",
      "  criterion: gini\n",
      "  bootstrap: False\n"
     ]
    }
   ],
   "source": [
    "print(\"Best Score: \", trial.value)\n",
    "print(\"Best Params: \")\n",
    "for key, value in trial.params.items():\n",
    "    print(\"  {}: {}\".format(key, value))"
   ]
  }
 ],
 "metadata": {
  "kernelspec": {
   "display_name": "Python 3",
   "language": "python",
   "name": "python3"
  },
  "language_info": {
   "codemirror_mode": {
    "name": "ipython",
    "version": 3
   },
   "file_extension": ".py",
   "mimetype": "text/x-python",
   "name": "python",
   "nbconvert_exporter": "python",
   "pygments_lexer": "ipython3",
   "version": "3.8.8"
  }
 },
 "nbformat": 4,
 "nbformat_minor": 5
}
