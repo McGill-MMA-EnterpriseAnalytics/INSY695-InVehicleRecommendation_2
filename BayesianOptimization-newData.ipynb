{
 "cells": [
  {
   "cell_type": "code",
   "execution_count": 1,
   "id": "095d9c98",
   "metadata": {},
   "outputs": [],
   "source": [
    "import pandas as pd\n",
    "from sklearn.model_selection import train_test_split\n",
    "from sklearn.preprocessing import StandardScaler\n",
    "from sklearn.ensemble import RandomForestClassifier\n",
    "from hyperopt import hp,fmin,tpe,STATUS_OK,Trials\n",
    "from sklearn.metrics import accuracy_score, classification_report, f1_score\n",
    "from sklearn.model_selection import cross_val_score\n",
    "from xgboost import XGBClassifier\n",
    "import warnings\n",
    "warnings.filterwarnings('ignore')"
   ]
  },
  {
   "cell_type": "code",
   "execution_count": 2,
   "id": "bc078b43",
   "metadata": {},
   "outputs": [],
   "source": [
    "dataset = pd.read_csv('new_data.csv')"
   ]
  },
  {
   "cell_type": "code",
   "execution_count": 3,
   "id": "3ce5cd29",
   "metadata": {},
   "outputs": [],
   "source": [
    "X = dataset.drop(axis=1, columns=['Y'])\n",
    "y = dataset['Y']"
   ]
  },
  {
   "cell_type": "code",
   "execution_count": 4,
   "id": "a2e01011",
   "metadata": {},
   "outputs": [
    {
     "data": {
      "text/plain": [
       "((10147, 67), (2537, 67), (10147,), (2537,))"
      ]
     },
     "execution_count": 4,
     "metadata": {},
     "output_type": "execute_result"
    }
   ],
   "source": [
    "X_train, X_test, y_train, y_test = train_test_split(X, y, test_size=0.2)\n",
    "X_train.shape, X_test.shape, y_train.shape, y_test.shape"
   ]
  },
  {
   "cell_type": "markdown",
   "id": "19bef0c2",
   "metadata": {},
   "source": [
    "### Bayesian Optimization"
   ]
  },
  {
   "cell_type": "code",
   "execution_count": 5,
   "id": "b74ab225",
   "metadata": {},
   "outputs": [
    {
     "data": {
      "text/plain": [
       "{'criterion': <hyperopt.pyll.base.Apply at 0x2d831538340>,\n",
       " 'bootstrap': <hyperopt.pyll.base.Apply at 0x2d831538460>,\n",
       " 'max_features': <hyperopt.pyll.base.Apply at 0x2d8315385b0>,\n",
       " 'min_samples_split': <hyperopt.pyll.base.Apply at 0x2d8315387f0>,\n",
       " 'n_estimators': <hyperopt.pyll.base.Apply at 0x2d831538a00>}"
      ]
     },
     "execution_count": 5,
     "metadata": {},
     "output_type": "execute_result"
    }
   ],
   "source": [
    "#Space set close to values estimated by TPOT classifier\n",
    "space = {'criterion': hp.choice('criterion', ['entropy', 'gini']),\n",
    "        'bootstrap': hp.choice('bootstrap', [True, False]),\n",
    "        'max_features': hp.choice('max_features', [0.3, 0.4, 0.5, 0.6]),\n",
    "        #'min_samples_leaf': hp.choice('min_samples_leaf', [0.4, 0.6, 0.8, 1.0]), #hp.uniform('min_samples_leaf', 0.5, 1),\n",
    "        'min_samples_split' : hp.choice ('min_samples_split', [7, 8, 9, 10, 11]),\n",
    "        'n_estimators' : hp.choice('n_estimators', [150, 200, 250, 300, 350])\n",
    "    }\n",
    "space"
   ]
  },
  {
   "cell_type": "code",
   "execution_count": 6,
   "id": "94662541",
   "metadata": {},
   "outputs": [],
   "source": [
    "def objective(space):\n",
    "    model = RandomForestClassifier(criterion = space['criterion'], bootstrap = space['bootstrap'],\n",
    "                                 max_features = space['max_features'],\n",
    "                                 #min_samples_leaf = space['min_samples_leaf'],\n",
    "                                 min_samples_split = space['min_samples_split'],\n",
    "                                 n_estimators = space['n_estimators'], \n",
    "                                 )\n",
    "    \n",
    "    accuracy = cross_val_score(model, X_train, y_train, cv = 5).mean()\n",
    "\n",
    "    # We aim to maximize accuracy, therefore we return it as a negative value\n",
    "    return {'loss': -accuracy, 'status': STATUS_OK }"
   ]
  },
  {
   "cell_type": "code",
   "execution_count": 7,
   "id": "09c6e35f",
   "metadata": {},
   "outputs": [
    {
     "name": "stdout",
     "output_type": "stream",
     "text": [
      "100%|█████████████████████████████████████████████| 80/80 [1:40:19<00:00, 75.24s/trial, best loss: -0.7442610230475835]\n"
     ]
    },
    {
     "data": {
      "text/plain": [
       "{'bootstrap': 1,\n",
       " 'criterion': 0,\n",
       " 'max_features': 0,\n",
       " 'min_samples_split': 4,\n",
       " 'n_estimators': 2}"
      ]
     },
     "execution_count": 7,
     "metadata": {},
     "output_type": "execute_result"
    }
   ],
   "source": [
    "trials = Trials()\n",
    "best = fmin(fn= objective,\n",
    "            space= space,\n",
    "            algo= tpe.suggest,\n",
    "            max_evals = 80,\n",
    "            trials= trials)\n",
    "best"
   ]
  },
  {
   "cell_type": "code",
   "execution_count": 8,
   "id": "1bdda809",
   "metadata": {},
   "outputs": [
    {
     "name": "stdout",
     "output_type": "stream",
     "text": [
      "criterion: entropy\n",
      "bootstrap: False\n",
      "max_features: 0.15\n",
      "n_estimators: 300\n",
      "min_samples_split: 9\n"
     ]
    }
   ],
   "source": [
    "crit = {0: 'entropy', 1: 'gini'}\n",
    "bootstrap = {0: True, 1: False}\n",
    "feat = {0: 0.15, 1: 0.20, 2: 0.25, 3: 0.3, 4: 0.35, 5: 0.4, 6: 0.45, 7: 0.5}\n",
    "split = {0: 5, 1: 6, 2: 7, 3: 8, 4: 9}\n",
    "est = {0: 10, 1: 50, 2: 300, 3: 750}\n",
    "#leaf = {0: 0, 1: 1, 2: 2, 3: 3, 4: 4, 5: 5}\n",
    "\n",
    "\n",
    "print(\"criterion:\",crit[best['criterion']])\n",
    "print(\"bootstrap:\",bootstrap[best['bootstrap']])\n",
    "print(\"max_features:\",feat[best['max_features']])\n",
    "print(\"n_estimators:\",est[best['n_estimators']])\n",
    "print(\"min_samples_split:\",split[best['min_samples_split']])"
   ]
  },
  {
   "cell_type": "code",
   "execution_count": 9,
   "id": "5f90bd22",
   "metadata": {},
   "outputs": [],
   "source": [
    "trainedforest = RandomForestClassifier(criterion = crit[best['criterion']], bootstrap = bootstrap[best['bootstrap']], \n",
    "                                       max_features = feat[best['max_features']], \n",
    "                                       min_samples_leaf = 1, \n",
    "                                       min_samples_split = split[best['min_samples_split']], \n",
    "                                       n_estimators = est[best['n_estimators']]).fit(X_train,y_train)"
   ]
  },
  {
   "cell_type": "code",
   "execution_count": 10,
   "id": "07f8882c",
   "metadata": {},
   "outputs": [
    {
     "name": "stdout",
     "output_type": "stream",
     "text": [
      "Accuracy: 0.7272368939692551\n",
      "F1: 0.7693333333333333\n"
     ]
    }
   ],
   "source": [
    "predictionforest = trainedforest.predict(X_test)\n",
    "\n",
    "print(\"Accuracy:\",accuracy_score(y_test,predictionforest)) \n",
    "print(\"F1:\",f1_score(y_test,predictionforest))"
   ]
  },
  {
   "cell_type": "code",
   "execution_count": 11,
   "id": "612fea88",
   "metadata": {},
   "outputs": [
    {
     "name": "stdout",
     "output_type": "stream",
     "text": [
      "              precision    recall  f1-score   support\n",
      "\n",
      "         0.0       0.71      0.63      0.67      1101\n",
      "         1.0       0.74      0.80      0.77      1436\n",
      "\n",
      "    accuracy                           0.73      2537\n",
      "   macro avg       0.72      0.72      0.72      2537\n",
      "weighted avg       0.73      0.73      0.72      2537\n",
      "\n"
     ]
    }
   ],
   "source": [
    "print(classification_report(y_test,predictionforest))"
   ]
  },
  {
   "cell_type": "code",
   "execution_count": null,
   "id": "b4a74cf8",
   "metadata": {},
   "outputs": [],
   "source": []
  }
 ],
 "metadata": {
  "kernelspec": {
   "display_name": "Python 3",
   "language": "python",
   "name": "python3"
  },
  "language_info": {
   "codemirror_mode": {
    "name": "ipython",
    "version": 3
   },
   "file_extension": ".py",
   "mimetype": "text/x-python",
   "name": "python",
   "nbconvert_exporter": "python",
   "pygments_lexer": "ipython3",
   "version": "3.8.8"
  }
 },
 "nbformat": 4,
 "nbformat_minor": 5
}
