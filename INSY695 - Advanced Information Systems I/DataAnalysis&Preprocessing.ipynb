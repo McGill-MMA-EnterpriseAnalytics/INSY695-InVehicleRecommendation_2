{
 "cells": [
  {
   "cell_type": "code",
   "execution_count": 1,
   "id": "7ee6b10b",
   "metadata": {},
   "outputs": [],
   "source": [
    "#importing libraries\n",
    "import pandas as pd\n",
    "import numpy as np\n",
    "from scipy import stats as st\n",
    "from sklearn.ensemble import RandomForestClassifier\n",
    "from sklearn.tree import DecisionTreeClassifier\n",
    "from sklearn.feature_selection import RFE\n",
    "from sklearn.linear_model import LogisticRegression\n",
    "from sklearn.impute import SimpleImputer\n",
    "import seaborn as sns\n",
    "import matplotlib.pyplot as plt\n",
    "%matplotlib inline"
   ]
  },
  {
   "cell_type": "code",
   "execution_count": 2,
   "id": "7d80eb84",
   "metadata": {},
   "outputs": [],
   "source": [
    "#importing data\n",
    "coupon = pd.read_csv('D:\\MMA\\W1\\INSY695\\Project\\in-vehicle-coupon-recommendation.csv')"
   ]
  },
  {
   "cell_type": "code",
   "execution_count": 3,
   "id": "4b0687d3",
   "metadata": {},
   "outputs": [
    {
     "data": {
      "text/html": [
       "<div>\n",
       "<style scoped>\n",
       "    .dataframe tbody tr th:only-of-type {\n",
       "        vertical-align: middle;\n",
       "    }\n",
       "\n",
       "    .dataframe tbody tr th {\n",
       "        vertical-align: top;\n",
       "    }\n",
       "\n",
       "    .dataframe thead th {\n",
       "        text-align: right;\n",
       "    }\n",
       "</style>\n",
       "<table border=\"1\" class=\"dataframe\">\n",
       "  <thead>\n",
       "    <tr style=\"text-align: right;\">\n",
       "      <th></th>\n",
       "      <th>destination</th>\n",
       "      <th>passanger</th>\n",
       "      <th>weather</th>\n",
       "      <th>temperature</th>\n",
       "      <th>time</th>\n",
       "      <th>coupon</th>\n",
       "      <th>expiration</th>\n",
       "      <th>gender</th>\n",
       "      <th>age</th>\n",
       "      <th>maritalStatus</th>\n",
       "      <th>...</th>\n",
       "      <th>CoffeeHouse</th>\n",
       "      <th>CarryAway</th>\n",
       "      <th>RestaurantLessThan20</th>\n",
       "      <th>Restaurant20To50</th>\n",
       "      <th>toCoupon_GEQ5min</th>\n",
       "      <th>toCoupon_GEQ15min</th>\n",
       "      <th>toCoupon_GEQ25min</th>\n",
       "      <th>direction_same</th>\n",
       "      <th>direction_opp</th>\n",
       "      <th>Y</th>\n",
       "    </tr>\n",
       "  </thead>\n",
       "  <tbody>\n",
       "    <tr>\n",
       "      <th>0</th>\n",
       "      <td>No Urgent Place</td>\n",
       "      <td>Alone</td>\n",
       "      <td>Sunny</td>\n",
       "      <td>55</td>\n",
       "      <td>2PM</td>\n",
       "      <td>Restaurant(&lt;20)</td>\n",
       "      <td>1d</td>\n",
       "      <td>Female</td>\n",
       "      <td>21</td>\n",
       "      <td>Unmarried partner</td>\n",
       "      <td>...</td>\n",
       "      <td>never</td>\n",
       "      <td>NaN</td>\n",
       "      <td>4~8</td>\n",
       "      <td>1~3</td>\n",
       "      <td>1</td>\n",
       "      <td>0</td>\n",
       "      <td>0</td>\n",
       "      <td>0</td>\n",
       "      <td>1</td>\n",
       "      <td>1</td>\n",
       "    </tr>\n",
       "    <tr>\n",
       "      <th>1</th>\n",
       "      <td>No Urgent Place</td>\n",
       "      <td>Friend(s)</td>\n",
       "      <td>Sunny</td>\n",
       "      <td>80</td>\n",
       "      <td>10AM</td>\n",
       "      <td>Coffee House</td>\n",
       "      <td>2h</td>\n",
       "      <td>Female</td>\n",
       "      <td>21</td>\n",
       "      <td>Unmarried partner</td>\n",
       "      <td>...</td>\n",
       "      <td>never</td>\n",
       "      <td>NaN</td>\n",
       "      <td>4~8</td>\n",
       "      <td>1~3</td>\n",
       "      <td>1</td>\n",
       "      <td>0</td>\n",
       "      <td>0</td>\n",
       "      <td>0</td>\n",
       "      <td>1</td>\n",
       "      <td>0</td>\n",
       "    </tr>\n",
       "    <tr>\n",
       "      <th>2</th>\n",
       "      <td>No Urgent Place</td>\n",
       "      <td>Friend(s)</td>\n",
       "      <td>Sunny</td>\n",
       "      <td>80</td>\n",
       "      <td>10AM</td>\n",
       "      <td>Carry out &amp; Take away</td>\n",
       "      <td>2h</td>\n",
       "      <td>Female</td>\n",
       "      <td>21</td>\n",
       "      <td>Unmarried partner</td>\n",
       "      <td>...</td>\n",
       "      <td>never</td>\n",
       "      <td>NaN</td>\n",
       "      <td>4~8</td>\n",
       "      <td>1~3</td>\n",
       "      <td>1</td>\n",
       "      <td>1</td>\n",
       "      <td>0</td>\n",
       "      <td>0</td>\n",
       "      <td>1</td>\n",
       "      <td>1</td>\n",
       "    </tr>\n",
       "    <tr>\n",
       "      <th>3</th>\n",
       "      <td>No Urgent Place</td>\n",
       "      <td>Friend(s)</td>\n",
       "      <td>Sunny</td>\n",
       "      <td>80</td>\n",
       "      <td>2PM</td>\n",
       "      <td>Coffee House</td>\n",
       "      <td>2h</td>\n",
       "      <td>Female</td>\n",
       "      <td>21</td>\n",
       "      <td>Unmarried partner</td>\n",
       "      <td>...</td>\n",
       "      <td>never</td>\n",
       "      <td>NaN</td>\n",
       "      <td>4~8</td>\n",
       "      <td>1~3</td>\n",
       "      <td>1</td>\n",
       "      <td>1</td>\n",
       "      <td>0</td>\n",
       "      <td>0</td>\n",
       "      <td>1</td>\n",
       "      <td>0</td>\n",
       "    </tr>\n",
       "    <tr>\n",
       "      <th>4</th>\n",
       "      <td>No Urgent Place</td>\n",
       "      <td>Friend(s)</td>\n",
       "      <td>Sunny</td>\n",
       "      <td>80</td>\n",
       "      <td>2PM</td>\n",
       "      <td>Coffee House</td>\n",
       "      <td>1d</td>\n",
       "      <td>Female</td>\n",
       "      <td>21</td>\n",
       "      <td>Unmarried partner</td>\n",
       "      <td>...</td>\n",
       "      <td>never</td>\n",
       "      <td>NaN</td>\n",
       "      <td>4~8</td>\n",
       "      <td>1~3</td>\n",
       "      <td>1</td>\n",
       "      <td>1</td>\n",
       "      <td>0</td>\n",
       "      <td>0</td>\n",
       "      <td>1</td>\n",
       "      <td>0</td>\n",
       "    </tr>\n",
       "  </tbody>\n",
       "</table>\n",
       "<p>5 rows × 26 columns</p>\n",
       "</div>"
      ],
      "text/plain": [
       "       destination  passanger weather  temperature  time  \\\n",
       "0  No Urgent Place      Alone   Sunny           55   2PM   \n",
       "1  No Urgent Place  Friend(s)   Sunny           80  10AM   \n",
       "2  No Urgent Place  Friend(s)   Sunny           80  10AM   \n",
       "3  No Urgent Place  Friend(s)   Sunny           80   2PM   \n",
       "4  No Urgent Place  Friend(s)   Sunny           80   2PM   \n",
       "\n",
       "                  coupon expiration  gender age      maritalStatus  ...  \\\n",
       "0        Restaurant(<20)         1d  Female  21  Unmarried partner  ...   \n",
       "1           Coffee House         2h  Female  21  Unmarried partner  ...   \n",
       "2  Carry out & Take away         2h  Female  21  Unmarried partner  ...   \n",
       "3           Coffee House         2h  Female  21  Unmarried partner  ...   \n",
       "4           Coffee House         1d  Female  21  Unmarried partner  ...   \n",
       "\n",
       "   CoffeeHouse CarryAway RestaurantLessThan20 Restaurant20To50  \\\n",
       "0        never       NaN                  4~8              1~3   \n",
       "1        never       NaN                  4~8              1~3   \n",
       "2        never       NaN                  4~8              1~3   \n",
       "3        never       NaN                  4~8              1~3   \n",
       "4        never       NaN                  4~8              1~3   \n",
       "\n",
       "  toCoupon_GEQ5min toCoupon_GEQ15min toCoupon_GEQ25min direction_same  \\\n",
       "0                1                 0                 0              0   \n",
       "1                1                 0                 0              0   \n",
       "2                1                 1                 0              0   \n",
       "3                1                 1                 0              0   \n",
       "4                1                 1                 0              0   \n",
       "\n",
       "  direction_opp  Y  \n",
       "0             1  1  \n",
       "1             1  0  \n",
       "2             1  1  \n",
       "3             1  0  \n",
       "4             1  0  \n",
       "\n",
       "[5 rows x 26 columns]"
      ]
     },
     "execution_count": 3,
     "metadata": {},
     "output_type": "execute_result"
    }
   ],
   "source": [
    "#Looking into data\n",
    "coupon.head()"
   ]
  },
  {
   "cell_type": "code",
   "execution_count": 4,
   "id": "18d2033e",
   "metadata": {},
   "outputs": [
    {
     "data": {
      "text/plain": [
       "destination             12684\n",
       "passanger               12684\n",
       "weather                 12684\n",
       "temperature             12684\n",
       "time                    12684\n",
       "coupon                  12684\n",
       "expiration              12684\n",
       "gender                  12684\n",
       "age                     12684\n",
       "maritalStatus           12684\n",
       "has_children            12684\n",
       "education               12684\n",
       "occupation              12684\n",
       "income                  12684\n",
       "car                       108\n",
       "Bar                     12577\n",
       "CoffeeHouse             12467\n",
       "CarryAway               12533\n",
       "RestaurantLessThan20    12554\n",
       "Restaurant20To50        12495\n",
       "toCoupon_GEQ5min        12684\n",
       "toCoupon_GEQ15min       12684\n",
       "toCoupon_GEQ25min       12684\n",
       "direction_same          12684\n",
       "direction_opp           12684\n",
       "Y                       12684\n",
       "dtype: int64"
      ]
     },
     "execution_count": 4,
     "metadata": {},
     "output_type": "execute_result"
    }
   ],
   "source": [
    "#checking for null or missing values\n",
    "coupon.count()"
   ]
  },
  {
   "cell_type": "code",
   "execution_count": 5,
   "id": "0bece329",
   "metadata": {},
   "outputs": [
    {
     "data": {
      "text/html": [
       "<div>\n",
       "<style scoped>\n",
       "    .dataframe tbody tr th:only-of-type {\n",
       "        vertical-align: middle;\n",
       "    }\n",
       "\n",
       "    .dataframe tbody tr th {\n",
       "        vertical-align: top;\n",
       "    }\n",
       "\n",
       "    .dataframe thead th {\n",
       "        text-align: right;\n",
       "    }\n",
       "</style>\n",
       "<table border=\"1\" class=\"dataframe\">\n",
       "  <thead>\n",
       "    <tr style=\"text-align: right;\">\n",
       "      <th></th>\n",
       "      <th>temperature</th>\n",
       "      <th>has_children</th>\n",
       "      <th>toCoupon_GEQ5min</th>\n",
       "      <th>toCoupon_GEQ15min</th>\n",
       "      <th>toCoupon_GEQ25min</th>\n",
       "      <th>direction_same</th>\n",
       "      <th>direction_opp</th>\n",
       "      <th>Y</th>\n",
       "    </tr>\n",
       "  </thead>\n",
       "  <tbody>\n",
       "    <tr>\n",
       "      <th>count</th>\n",
       "      <td>12684.000000</td>\n",
       "      <td>12684.000000</td>\n",
       "      <td>12684.0</td>\n",
       "      <td>12684.000000</td>\n",
       "      <td>12684.000000</td>\n",
       "      <td>12684.000000</td>\n",
       "      <td>12684.000000</td>\n",
       "      <td>12684.000000</td>\n",
       "    </tr>\n",
       "    <tr>\n",
       "      <th>mean</th>\n",
       "      <td>63.301798</td>\n",
       "      <td>0.414144</td>\n",
       "      <td>1.0</td>\n",
       "      <td>0.561495</td>\n",
       "      <td>0.119126</td>\n",
       "      <td>0.214759</td>\n",
       "      <td>0.785241</td>\n",
       "      <td>0.568433</td>\n",
       "    </tr>\n",
       "    <tr>\n",
       "      <th>std</th>\n",
       "      <td>19.154486</td>\n",
       "      <td>0.492593</td>\n",
       "      <td>0.0</td>\n",
       "      <td>0.496224</td>\n",
       "      <td>0.323950</td>\n",
       "      <td>0.410671</td>\n",
       "      <td>0.410671</td>\n",
       "      <td>0.495314</td>\n",
       "    </tr>\n",
       "    <tr>\n",
       "      <th>min</th>\n",
       "      <td>30.000000</td>\n",
       "      <td>0.000000</td>\n",
       "      <td>1.0</td>\n",
       "      <td>0.000000</td>\n",
       "      <td>0.000000</td>\n",
       "      <td>0.000000</td>\n",
       "      <td>0.000000</td>\n",
       "      <td>0.000000</td>\n",
       "    </tr>\n",
       "    <tr>\n",
       "      <th>25%</th>\n",
       "      <td>55.000000</td>\n",
       "      <td>0.000000</td>\n",
       "      <td>1.0</td>\n",
       "      <td>0.000000</td>\n",
       "      <td>0.000000</td>\n",
       "      <td>0.000000</td>\n",
       "      <td>1.000000</td>\n",
       "      <td>0.000000</td>\n",
       "    </tr>\n",
       "    <tr>\n",
       "      <th>50%</th>\n",
       "      <td>80.000000</td>\n",
       "      <td>0.000000</td>\n",
       "      <td>1.0</td>\n",
       "      <td>1.000000</td>\n",
       "      <td>0.000000</td>\n",
       "      <td>0.000000</td>\n",
       "      <td>1.000000</td>\n",
       "      <td>1.000000</td>\n",
       "    </tr>\n",
       "    <tr>\n",
       "      <th>75%</th>\n",
       "      <td>80.000000</td>\n",
       "      <td>1.000000</td>\n",
       "      <td>1.0</td>\n",
       "      <td>1.000000</td>\n",
       "      <td>0.000000</td>\n",
       "      <td>0.000000</td>\n",
       "      <td>1.000000</td>\n",
       "      <td>1.000000</td>\n",
       "    </tr>\n",
       "    <tr>\n",
       "      <th>max</th>\n",
       "      <td>80.000000</td>\n",
       "      <td>1.000000</td>\n",
       "      <td>1.0</td>\n",
       "      <td>1.000000</td>\n",
       "      <td>1.000000</td>\n",
       "      <td>1.000000</td>\n",
       "      <td>1.000000</td>\n",
       "      <td>1.000000</td>\n",
       "    </tr>\n",
       "  </tbody>\n",
       "</table>\n",
       "</div>"
      ],
      "text/plain": [
       "        temperature  has_children  toCoupon_GEQ5min  toCoupon_GEQ15min  \\\n",
       "count  12684.000000  12684.000000           12684.0       12684.000000   \n",
       "mean      63.301798      0.414144               1.0           0.561495   \n",
       "std       19.154486      0.492593               0.0           0.496224   \n",
       "min       30.000000      0.000000               1.0           0.000000   \n",
       "25%       55.000000      0.000000               1.0           0.000000   \n",
       "50%       80.000000      0.000000               1.0           1.000000   \n",
       "75%       80.000000      1.000000               1.0           1.000000   \n",
       "max       80.000000      1.000000               1.0           1.000000   \n",
       "\n",
       "       toCoupon_GEQ25min  direction_same  direction_opp             Y  \n",
       "count       12684.000000    12684.000000   12684.000000  12684.000000  \n",
       "mean            0.119126        0.214759       0.785241      0.568433  \n",
       "std             0.323950        0.410671       0.410671      0.495314  \n",
       "min             0.000000        0.000000       0.000000      0.000000  \n",
       "25%             0.000000        0.000000       1.000000      0.000000  \n",
       "50%             0.000000        0.000000       1.000000      1.000000  \n",
       "75%             0.000000        0.000000       1.000000      1.000000  \n",
       "max             1.000000        1.000000       1.000000      1.000000  "
      ]
     },
     "execution_count": 5,
     "metadata": {},
     "output_type": "execute_result"
    }
   ],
   "source": [
    "coupon.describe()"
   ]
  },
  {
   "cell_type": "code",
   "execution_count": 6,
   "id": "e34b15f1",
   "metadata": {},
   "outputs": [
    {
     "name": "stdout",
     "output_type": "stream",
     "text": [
      "<class 'pandas.core.frame.DataFrame'>\n",
      "RangeIndex: 12684 entries, 0 to 12683\n",
      "Data columns (total 26 columns):\n",
      " #   Column                Non-Null Count  Dtype \n",
      "---  ------                --------------  ----- \n",
      " 0   destination           12684 non-null  object\n",
      " 1   passanger             12684 non-null  object\n",
      " 2   weather               12684 non-null  object\n",
      " 3   temperature           12684 non-null  int64 \n",
      " 4   time                  12684 non-null  object\n",
      " 5   coupon                12684 non-null  object\n",
      " 6   expiration            12684 non-null  object\n",
      " 7   gender                12684 non-null  object\n",
      " 8   age                   12684 non-null  object\n",
      " 9   maritalStatus         12684 non-null  object\n",
      " 10  has_children          12684 non-null  int64 \n",
      " 11  education             12684 non-null  object\n",
      " 12  occupation            12684 non-null  object\n",
      " 13  income                12684 non-null  object\n",
      " 14  car                   108 non-null    object\n",
      " 15  Bar                   12577 non-null  object\n",
      " 16  CoffeeHouse           12467 non-null  object\n",
      " 17  CarryAway             12533 non-null  object\n",
      " 18  RestaurantLessThan20  12554 non-null  object\n",
      " 19  Restaurant20To50      12495 non-null  object\n",
      " 20  toCoupon_GEQ5min      12684 non-null  int64 \n",
      " 21  toCoupon_GEQ15min     12684 non-null  int64 \n",
      " 22  toCoupon_GEQ25min     12684 non-null  int64 \n",
      " 23  direction_same        12684 non-null  int64 \n",
      " 24  direction_opp         12684 non-null  int64 \n",
      " 25  Y                     12684 non-null  int64 \n",
      "dtypes: int64(8), object(18)\n",
      "memory usage: 2.5+ MB\n"
     ]
    }
   ],
   "source": [
    "coupon.info()"
   ]
  },
  {
   "cell_type": "code",
   "execution_count": 7,
   "id": "250fe013",
   "metadata": {},
   "outputs": [],
   "source": [
    "#removing column 'car' due to high missing values and lack of description in survey\n",
    "#removing column 'toCoupon_GEQ5min' as it has unary values\n",
    "coupon = coupon.drop(axis=1, columns=['car', 'toCoupon_GEQ5min'])"
   ]
  },
  {
   "cell_type": "markdown",
   "id": "a9801388",
   "metadata": {},
   "source": [
    "### Data Visualization"
   ]
  },
  {
   "cell_type": "code",
   "execution_count": 8,
   "id": "3961b6e0",
   "metadata": {},
   "outputs": [
    {
     "data": {
      "text/plain": [
       "<AxesSubplot:xlabel='time', ylabel='Count'>"
      ]
     },
     "execution_count": 8,
     "metadata": {},
     "output_type": "execute_result"
    },
    {
     "data": {
      "image/png": "[encoded data removed]",
      "text/plain": [
       "<Figure size 432x288 with 1 Axes>"
      ]
     },
     "metadata": {
      "needs_background": "light"
     },
     "output_type": "display_data"
    }
   ],
   "source": [
    "sns.histplot(data=coupon, x=\"time\", hue=\"Y\", multiple=\"dodge\")"
   ]
  },
  {
   "cell_type": "code",
   "execution_count": 9,
   "id": "3082783c",
   "metadata": {},
   "outputs": [
    {
     "data": {
      "text/plain": [
       "<AxesSubplot:xlabel='weather', ylabel='Count'>"
      ]
     },
     "execution_count": 9,
     "metadata": {},
     "output_type": "execute_result"
    },
    {
     "data": {
      "image/png": "[encoded data removed]",
      "text/plain": [
       "<Figure size 432x288 with 1 Axes>"
      ]
     },
     "metadata": {
      "needs_background": "light"
     },
     "output_type": "display_data"
    }
   ],
   "source": [
    "sns.histplot(data=coupon, x=\"weather\", hue=\"Y\", multiple=\"dodge\")"
   ]
  },
  {
   "cell_type": "code",
   "execution_count": 10,
   "id": "a20d8621",
   "metadata": {},
   "outputs": [
    {
     "data": {
      "text/plain": [
       "<AxesSubplot:xlabel='expiration', ylabel='Count'>"
      ]
     },
     "execution_count": 10,
     "metadata": {},
     "output_type": "execute_result"
    },
    {
     "data": {
      "image/png": "[encoded data removed]",
      "text/plain": [
       "<Figure size 432x288 with 1 Axes>"
      ]
     },
     "metadata": {
      "needs_background": "light"
     },
     "output_type": "display_data"
    }
   ],
   "source": [
    "sns.histplot(data=coupon, x=\"expiration\", hue=\"Y\", multiple=\"dodge\")"
   ]
  },
  {
   "cell_type": "code",
   "execution_count": 11,
   "id": "68d68d0f",
   "metadata": {},
   "outputs": [
    {
     "data": {
      "text/plain": [
       "<AxesSubplot:xlabel='gender', ylabel='Count'>"
      ]
     },
     "execution_count": 11,
     "metadata": {},
     "output_type": "execute_result"
    },
    {
     "data": {
      "image/png": "[encoded data removed]",
      "text/plain": [
       "<Figure size 432x288 with 1 Axes>"
      ]
     },
     "metadata": {
      "needs_background": "light"
     },
     "output_type": "display_data"
    }
   ],
   "source": [
    "sns.histplot(data=coupon, x=\"gender\", hue=\"Y\", multiple=\"dodge\")"
   ]
  },
  {
   "cell_type": "code",
   "execution_count": 12,
   "id": "c6615eb3",
   "metadata": {},
   "outputs": [
    {
     "data": {
      "text/plain": [
       "<AxesSubplot:xlabel='age', ylabel='Count'>"
      ]
     },
     "execution_count": 12,
     "metadata": {},
     "output_type": "execute_result"
    },
    {
     "data": {
      "image/png": "[encoded data removed]",
      "text/plain": [
       "<Figure size 432x288 with 1 Axes>"
      ]
     },
     "metadata": {
      "needs_background": "light"
     },
     "output_type": "display_data"
    }
   ],
   "source": [
    "sns.histplot(data=coupon, x=\"age\", hue=\"Y\", multiple=\"dodge\")"
   ]
  },
  {
   "cell_type": "code",
   "execution_count": 13,
   "id": "36c26816",
   "metadata": {},
   "outputs": [
    {
     "data": {
      "text/plain": [
       "<AxesSubplot:xlabel='maritalStatus', ylabel='Count'>"
      ]
     },
     "execution_count": 13,
     "metadata": {},
     "output_type": "execute_result"
    },
    {
     "data": {
      "image/png": "[encoded data removed]",
      "text/plain": [
       "<Figure size 432x288 with 1 Axes>"
      ]
     },
     "metadata": {
      "needs_background": "light"
     },
     "output_type": "display_data"
    }
   ],
   "source": [
    "sns.histplot(data=coupon, x=\"maritalStatus\", hue=\"Y\", multiple=\"dodge\")"
   ]
  },
  {
   "cell_type": "code",
   "execution_count": 14,
   "id": "a51ebc3f",
   "metadata": {},
   "outputs": [
    {
     "data": {
      "text/plain": [
       "<AxesSubplot:xlabel='direction_same', ylabel='Count'>"
      ]
     },
     "execution_count": 14,
     "metadata": {},
     "output_type": "execute_result"
    },
    {
     "data": {
      "image/png": "[encoded data removed]",
      "text/plain": [
       "<Figure size 432x288 with 1 Axes>"
      ]
     },
     "metadata": {
      "needs_background": "light"
     },
     "output_type": "display_data"
    }
   ],
   "source": [
    "sns.histplot(data=coupon, x=\"direction_same\", hue=\"Y\", multiple=\"dodge\")"
   ]
  },
  {
   "cell_type": "code",
   "execution_count": 15,
   "id": "69aa964a",
   "metadata": {},
   "outputs": [
    {
     "data": {
      "text/plain": [
       "<AxesSubplot:xlabel='direction_opp', ylabel='Count'>"
      ]
     },
     "execution_count": 15,
     "metadata": {},
     "output_type": "execute_result"
    },
    {
     "data": {
      "image/png": "[encoded data removed]",
      "text/plain": [
       "<Figure size 432x288 with 1 Axes>"
      ]
     },
     "metadata": {
      "needs_background": "light"
     },
     "output_type": "display_data"
    }
   ],
   "source": [
    "sns.histplot(data=coupon, x=\"direction_opp\", hue=\"Y\", multiple=\"dodge\")"
   ]
  },
  {
   "cell_type": "code",
   "execution_count": 16,
   "id": "bff2787c",
   "metadata": {},
   "outputs": [
    {
     "data": {
      "text/plain": [
       "<AxesSubplot:xlabel='passanger', ylabel='Count'>"
      ]
     },
     "execution_count": 16,
     "metadata": {},
     "output_type": "execute_result"
    },
    {
     "data": {
      "image/png": "[encoded data removed]",
      "text/plain": [
       "<Figure size 432x288 with 1 Axes>"
      ]
     },
     "metadata": {
      "needs_background": "light"
     },
     "output_type": "display_data"
    }
   ],
   "source": [
    "sns.histplot(data=coupon, x=\"passanger\", hue=\"Y\", multiple=\"dodge\")"
   ]
  },
  {
   "cell_type": "code",
   "execution_count": 17,
   "id": "6e063336",
   "metadata": {},
   "outputs": [
    {
     "data": {
      "text/plain": [
       "<AxesSubplot:xlabel='has_children', ylabel='Count'>"
      ]
     },
     "execution_count": 17,
     "metadata": {},
     "output_type": "execute_result"
    },
    {
     "data": {
      "image/png": "[encoded data removed]",
      "text/plain": [
       "<Figure size 432x288 with 1 Axes>"
      ]
     },
     "metadata": {
      "needs_background": "light"
     },
     "output_type": "display_data"
    }
   ],
   "source": [
    "sns.histplot(data=coupon, x=\"has_children\", hue=\"Y\", multiple=\"dodge\")"
   ]
  },
  {
   "cell_type": "code",
   "execution_count": 18,
   "id": "a3e09811",
   "metadata": {},
   "outputs": [
    {
     "data": {
      "text/plain": [
       "<AxesSubplot:xlabel='Bar', ylabel='count'>"
      ]
     },
     "execution_count": 18,
     "metadata": {},
     "output_type": "execute_result"
    },
    {
     "data": {
      "image/png": "[encoded data removed]",
      "text/plain": [
       "<Figure size 432x288 with 1 Axes>"
      ]
     },
     "metadata": {
      "needs_background": "light"
     },
     "output_type": "display_data"
    }
   ],
   "source": [
    "sns.countplot(x=\"Bar\", hue=\"Y\", data=coupon)"
   ]
  },
  {
   "cell_type": "code",
   "execution_count": 19,
   "id": "f6b2325c",
   "metadata": {},
   "outputs": [
    {
     "data": {
      "text/plain": [
       "<AxesSubplot:xlabel='CoffeeHouse', ylabel='count'>"
      ]
     },
     "execution_count": 19,
     "metadata": {},
     "output_type": "execute_result"
    },
    {
     "data": {
      "image/png": "[encoded data removed]",
      "text/plain": [
       "<Figure size 432x288 with 1 Axes>"
      ]
     },
     "metadata": {
      "needs_background": "light"
     },
     "output_type": "display_data"
    }
   ],
   "source": [
    "sns.countplot(x=\"CoffeeHouse\", hue=\"Y\", data=coupon)"
   ]
  },
  {
   "cell_type": "code",
   "execution_count": 20,
   "id": "81af71b3",
   "metadata": {},
   "outputs": [
    {
     "data": {
      "text/plain": [
       "<AxesSubplot:xlabel='CarryAway', ylabel='count'>"
      ]
     },
     "execution_count": 20,
     "metadata": {},
     "output_type": "execute_result"
    },
    {
     "data": {
      "image/png": "[encoded data removed]",
      "text/plain": [
       "<Figure size 432x288 with 1 Axes>"
      ]
     },
     "metadata": {
      "needs_background": "light"
     },
     "output_type": "display_data"
    }
   ],
   "source": [
    "sns.countplot(x=\"CarryAway\", hue=\"Y\", data=coupon)"
   ]
  },
  {
   "cell_type": "code",
   "execution_count": 21,
   "id": "26607ae2",
   "metadata": {},
   "outputs": [
    {
     "data": {
      "text/plain": [
       "<AxesSubplot:xlabel='RestaurantLessThan20', ylabel='count'>"
      ]
     },
     "execution_count": 21,
     "metadata": {},
     "output_type": "execute_result"
    },
    {
     "data": {
      "image/png": "[encoded data removed]",
      "text/plain": [
       "<Figure size 432x288 with 1 Axes>"
      ]
     },
     "metadata": {
      "needs_background": "light"
     },
     "output_type": "display_data"
    }
   ],
   "source": [
    "sns.countplot(x=\"RestaurantLessThan20\", hue=\"Y\", data=coupon)"
   ]
  },
  {
   "cell_type": "code",
   "execution_count": 22,
   "id": "5a7e4606",
   "metadata": {},
   "outputs": [
    {
     "data": {
      "text/plain": [
       "<AxesSubplot:xlabel='Restaurant20To50', ylabel='count'>"
      ]
     },
     "execution_count": 22,
     "metadata": {},
     "output_type": "execute_result"
    },
    {
     "data": {
      "image/png": "[encoded data removed]",
      "text/plain": [
       "<Figure size 432x288 with 1 Axes>"
      ]
     },
     "metadata": {
      "needs_background": "light"
     },
     "output_type": "display_data"
    }
   ],
   "source": [
    "sns.countplot(x=\"Restaurant20To50\", hue=\"Y\", data=coupon)"
   ]
  },
  {
   "cell_type": "code",
   "execution_count": 23,
   "id": "4f0af5b4",
   "metadata": {},
   "outputs": [
    {
     "data": {
      "image/png": "[encoded data removed]",
      "text/plain": [
       "<Figure size 432x288 with 1 Axes>"
      ]
     },
     "metadata": {
      "needs_background": "light"
     },
     "output_type": "display_data"
    }
   ],
   "source": [
    "plt_income = sns.countplot(x=\"income\", hue=\"Y\", data=coupon)\n",
    "plt_income.set_xticklabels(plt_income.get_xticklabels(), rotation=40, ha=\"right\")\n",
    "plt.tight_layout()\n",
    "plt.show()"
   ]
  },
  {
   "cell_type": "code",
   "execution_count": 24,
   "id": "1b85d4c3",
   "metadata": {},
   "outputs": [
    {
     "data": {
      "image/png": "[encoded data removed]",
      "text/plain": [
       "<Figure size 432x288 with 1 Axes>"
      ]
     },
     "metadata": {
      "needs_background": "light"
     },
     "output_type": "display_data"
    }
   ],
   "source": [
    "plt_edu = sns.countplot(x=\"education\", hue=\"Y\", data=coupon)\n",
    "plt_edu.set_xticklabels(plt_edu.get_xticklabels(), rotation=40, ha=\"right\")\n",
    "plt.tight_layout()\n",
    "plt.show()"
   ]
  },
  {
   "cell_type": "code",
   "execution_count": 25,
   "id": "184fde8c",
   "metadata": {},
   "outputs": [
    {
     "data": {
      "image/png": "[encoded data removed]",
      "text/plain": [
       "<Figure size 432x288 with 1 Axes>"
      ]
     },
     "metadata": {
      "needs_background": "light"
     },
     "output_type": "display_data"
    },
    {
     "data": {
      "text/plain": [
       "<Figure size 1080x288 with 0 Axes>"
      ]
     },
     "metadata": {},
     "output_type": "display_data"
    }
   ],
   "source": [
    "plt_occ = sns.countplot(x=\"occupation\", hue=\"Y\", data=coupon)\n",
    "plt.figure(figsize=(15,4))\n",
    "plt_occ.set_xticklabels(plt_occ.get_xticklabels(), rotation=40, ha=\"right\", fontsize=7)\n",
    "plt.tight_layout()\n",
    "plt.show()"
   ]
  },
  {
   "cell_type": "markdown",
   "id": "d82bc997",
   "metadata": {},
   "source": [
    "### Data-Cleaning and Transforming"
   ]
  },
  {
   "cell_type": "code",
   "execution_count": 26,
   "id": "2c43ea1f",
   "metadata": {},
   "outputs": [],
   "source": [
    "#replacing text values for gender with numerical/binary value\n",
    "coupon.loc[coupon['gender'] == 'Female', 'gender'] = 1\n",
    "coupon.loc[coupon['gender'] == 'Male', 'gender'] = 0"
   ]
  },
  {
   "cell_type": "code",
   "execution_count": 27,
   "id": "e59916bb",
   "metadata": {},
   "outputs": [],
   "source": [
    "#keeping the expiration/validity to same unit i.e. hours\n",
    "coupon.loc[coupon['expiration'] == '1d', 'expiration'] = 24\n",
    "coupon.loc[coupon['expiration'] == '2h', 'expiration'] = 2"
   ]
  },
  {
   "cell_type": "code",
   "execution_count": 28,
   "id": "e1761e53",
   "metadata": {},
   "outputs": [
    {
     "data": {
      "text/plain": [
       "21         2653\n",
       "26         2559\n",
       "31         2039\n",
       "50plus     1788\n",
       "36         1319\n",
       "41         1093\n",
       "46          686\n",
       "below21     547\n",
       "Name: age, dtype: int64"
      ]
     },
     "execution_count": 28,
     "metadata": {},
     "output_type": "execute_result"
    }
   ],
   "source": [
    "#looking into count of distinct values in age\n",
    "coupon['age'].value_counts()"
   ]
  },
  {
   "cell_type": "code",
   "execution_count": 29,
   "id": "b4cb661e",
   "metadata": {},
   "outputs": [],
   "source": [
    "#replacing text values in age with numerical ones.\n",
    "#replacing all 50+ values with 50\n",
    "#replacing all below 21 values with 18 to represent below 21 group and has similar difference in age group as others\n",
    "coupon.loc[coupon['age'] == '50plus', 'age'] = 50\n",
    "coupon.loc[coupon['age'] == 'below21', 'age'] = 18"
   ]
  },
  {
   "cell_type": "code",
   "execution_count": 30,
   "id": "fdd904ec",
   "metadata": {},
   "outputs": [
    {
     "data": {
      "text/plain": [
       "6PM     3230\n",
       "7AM     3164\n",
       "10AM    2275\n",
       "2PM     2009\n",
       "10PM    2006\n",
       "Name: time, dtype: int64"
      ]
     },
     "execution_count": 30,
     "metadata": {},
     "output_type": "execute_result"
    }
   ],
   "source": [
    "#looking into count of distinct values in time\n",
    "coupon['time'].value_counts()"
   ]
  },
  {
   "cell_type": "code",
   "execution_count": 31,
   "id": "81d2e9e8",
   "metadata": {},
   "outputs": [],
   "source": [
    "#replacing hours in time to 24 hour format\n",
    "time_mapper = {'6PM': 18, '7AM': 7, '10AM': 10, '2PM': 14, '10PM': 22}\n",
    "coupon['time'] = coupon['time'].replace(time_mapper)"
   ]
  },
  {
   "cell_type": "code",
   "execution_count": 32,
   "id": "7218f7fd",
   "metadata": {},
   "outputs": [
    {
     "data": {
      "text/plain": [
       "Some college - no degree                  4351\n",
       "Bachelors degree                          4335\n",
       "Graduate degree (Masters or Doctorate)    1852\n",
       "Associates degree                         1153\n",
       "High School Graduate                       905\n",
       "Some High School                            88\n",
       "Name: education, dtype: int64"
      ]
     },
     "execution_count": 32,
     "metadata": {},
     "output_type": "execute_result"
    }
   ],
   "source": [
    "#looking into count of distinct values in age\n",
    "coupon['education'].value_counts()"
   ]
  },
  {
   "cell_type": "markdown",
   "id": "59813d7f",
   "metadata": {},
   "source": [
    "- Some college - no degree                  3\n",
    "- Bachelors degree                          5\n",
    "- Graduate degree (Masters or Doctorate)    6\n",
    "- Associates degree                         4\n",
    "- High School Graduate                      2\n",
    "- Some High School                          1"
   ]
  },
  {
   "cell_type": "code",
   "execution_count": 33,
   "id": "dfce0337",
   "metadata": {},
   "outputs": [],
   "source": [
    "education_mapper = {'Some High School': 1, 'High School Graduate': 2, 'Some college - no degree': 3, 'Associates degree': 4, 'Bachelors degree': 5, 'Graduate degree (Masters or Doctorate)': 6}\n",
    "coupon['education'] = coupon['education'].replace(education_mapper)      "
   ]
  },
  {
   "cell_type": "code",
   "execution_count": 34,
   "id": "cbf3694f",
   "metadata": {},
   "outputs": [
    {
     "data": {
      "text/plain": [
       "$25000 - $37499     2013\n",
       "$12500 - $24999     1831\n",
       "$37500 - $49999     1805\n",
       "$100000 or More     1736\n",
       "$50000 - $62499     1659\n",
       "Less than $12500    1042\n",
       "$87500 - $99999      895\n",
       "$75000 - $87499      857\n",
       "$62500 - $74999      846\n",
       "Name: income, dtype: int64"
      ]
     },
     "execution_count": 34,
     "metadata": {},
     "output_type": "execute_result"
    }
   ],
   "source": [
    "#looking into count of distinct values in income\n",
    "coupon['income'].value_counts()"
   ]
  },
  {
   "cell_type": "markdown",
   "id": "7af1d59f",
   "metadata": {},
   "source": [
    "#### Approach1: Replacing values in income with Ordinal Encoding\n",
    "\n",
    "|Income Range | Ordinal Encoding | \n",
    "| ------------- |-------------| \n",
    "| Less than 12500 | 1 |\n",
    "| 12500 - 24999 | 2 |\n",
    "| 25000 - 37499 | 3 |\n",
    "| 37500 - 49999 | 4 |\n",
    "| 50000 - 62499 | 5 |\n",
    "| 62500 - 74999 | 6 |\n",
    "| 75000 - 87499 | 7 |\n",
    "| 87500 - 99999 | 8 |\n",
    "| 100000 or More | 9 |"
   ]
  },
  {
   "cell_type": "code",
   "execution_count": 35,
   "id": "5c314a05",
   "metadata": {},
   "outputs": [],
   "source": [
    "income_ord = {'Less than $12500': 1, '$12500 - $24999': 2, '$25000 - $37499': 3, '$37500 - $49999': 4, '$50000 - $62499': 5, '$62500 - $74999': 6, '$75000 - $87499': 7, '$87500 - $99999': 8, '$100000 or More': 9}\n",
    "\n",
    "\n",
    "coupon['income_ord'] = coupon['income'].replace(income_ord)"
   ]
  },
  {
   "cell_type": "markdown",
   "id": "f87cdab0",
   "metadata": {},
   "source": [
    "#### Approach2: Splitting values in income into lower bound and upper bound based on range"
   ]
  },
  {
   "cell_type": "code",
   "execution_count": 36,
   "id": "5aee42fc",
   "metadata": {},
   "outputs": [],
   "source": [
    "income_ub_mapper = {'Less than $12500': 12499, '$12500 - $24999': 24999, '$25000 - $37499': 37499, '$37500 - $49999': 49999, '$50000 - $62499': 62499, '$62500 - $74999': 74999, '$75000 - $87499': 87499, '$87500 - $99999': 99999, '$100000 or More': 200000}\n",
    "income_lb_mapper = {'Less than $12500': 0, '$12500 - $24999': 12500, '$25000 - $37499': 25000, '$37500 - $49999': 37500, '$50000 - $62499': 50000, '$62500 - $74999': 62500, '$75000 - $87499': 75000, '$87500 - $99999': 87500, '$100000 or More': 100000}\n",
    "        \n",
    "\n",
    "coupon['income_ub'] = coupon['income'].replace(income_ub_mapper)\n",
    "coupon['income_lb'] = coupon['income'].replace(income_lb_mapper)"
   ]
  },
  {
   "cell_type": "code",
   "execution_count": 37,
   "id": "88ada6bd",
   "metadata": {},
   "outputs": [
    {
     "data": {
      "text/plain": [
       "never    5197\n",
       "less1    3482\n",
       "1~3      2473\n",
       "4~8      1076\n",
       "gt8       349\n",
       "Name: Bar, dtype: int64"
      ]
     },
     "execution_count": 37,
     "metadata": {},
     "output_type": "execute_result"
    }
   ],
   "source": [
    "#looking into count of distinct values in Bar\n",
    "coupon['Bar'].value_counts()"
   ]
  },
  {
   "cell_type": "code",
   "execution_count": 38,
   "id": "17db84be",
   "metadata": {},
   "outputs": [
    {
     "data": {
      "text/plain": [
       "less1    3385\n",
       "1~3      3225\n",
       "never    2962\n",
       "4~8      1784\n",
       "gt8      1111\n",
       "Name: CoffeeHouse, dtype: int64"
      ]
     },
     "execution_count": 38,
     "metadata": {},
     "output_type": "execute_result"
    }
   ],
   "source": [
    "#looking into count of distinct values in CoffeeHouse\n",
    "coupon['CoffeeHouse'].value_counts()"
   ]
  },
  {
   "cell_type": "code",
   "execution_count": 39,
   "id": "bf04c045",
   "metadata": {},
   "outputs": [
    {
     "data": {
      "text/plain": [
       "1~3      4672\n",
       "4~8      4258\n",
       "less1    1856\n",
       "gt8      1594\n",
       "never     153\n",
       "Name: CarryAway, dtype: int64"
      ]
     },
     "execution_count": 39,
     "metadata": {},
     "output_type": "execute_result"
    }
   ],
   "source": [
    "#looking into count of distinct values in CarryAway\n",
    "coupon['CarryAway'].value_counts()"
   ]
  },
  {
   "cell_type": "code",
   "execution_count": 40,
   "id": "4dba407d",
   "metadata": {},
   "outputs": [
    {
     "data": {
      "text/plain": [
       "1~3      5376\n",
       "4~8      3580\n",
       "less1    2093\n",
       "gt8      1285\n",
       "never     220\n",
       "Name: RestaurantLessThan20, dtype: int64"
      ]
     },
     "execution_count": 40,
     "metadata": {},
     "output_type": "execute_result"
    }
   ],
   "source": [
    "#looking into count of distinct values in RestaurantLessThan20\n",
    "coupon['RestaurantLessThan20'].value_counts()"
   ]
  },
  {
   "cell_type": "code",
   "execution_count": 41,
   "id": "095a48b4",
   "metadata": {},
   "outputs": [
    {
     "data": {
      "text/plain": [
       "less1    6077\n",
       "1~3      3290\n",
       "never    2136\n",
       "4~8       728\n",
       "gt8       264\n",
       "Name: Restaurant20To50, dtype: int64"
      ]
     },
     "execution_count": 41,
     "metadata": {},
     "output_type": "execute_result"
    }
   ],
   "source": [
    "#looking into count of distinct values in Restaurant20To50\n",
    "coupon['Restaurant20To50'].value_counts()"
   ]
  },
  {
   "cell_type": "markdown",
   "id": "95ae6634",
   "metadata": {},
   "source": [
    "#### Replacing values of below columns with Ordinal Encoding\n",
    "\n",
    "The distinct values of below columns are same and can be ranked. Therefore, replacing their text values with numericals using ordinal encoding."
   ]
  },
  {
   "cell_type": "markdown",
   "id": "d766a38b",
   "metadata": {},
   "source": [
    "|Values | Bar | CoffeeHouse | CarryAway | RestaurantLessThan20 | Restaurant20To50 |\n",
    "| ------------- |-------------| ------| ------| ------| ------|\n",
    "| never | 0 | 0 | 0 | 0 | 0 |\n",
    "| less1 | 1 | 1 | 1 | 1 | 1 |\n",
    "| 1~3 | 2 | 2 | 2 | 2 | 2 |\n",
    "| 4~8 | 3 | 3 | 3 | 3 | 3 |\n",
    "| gt8 | 4 | 4 | 4 | 4 | 4 |"
   ]
  },
  {
   "cell_type": "code",
   "execution_count": 42,
   "id": "bac40c8d",
   "metadata": {},
   "outputs": [],
   "source": [
    "visit_mapper = {'never': 0, 'less1': 1, '1~3': 2, '4~8': 3, 'gt8': 4}"
   ]
  },
  {
   "cell_type": "code",
   "execution_count": 43,
   "id": "606b7cd8",
   "metadata": {},
   "outputs": [],
   "source": [
    "coupon['Bar_ord'] = coupon['Bar'].replace(visit_mapper)\n",
    "coupon['CoffeeHouse_ord'] = coupon['CoffeeHouse'].replace(visit_mapper)\n",
    "coupon['CarryAway_ord'] = coupon['CarryAway'].replace(visit_mapper)\n",
    "coupon['RestLT20_ord'] = coupon['RestaurantLessThan20'].replace(visit_mapper)\n",
    "coupon['Rest20To50_ord'] = coupon['Restaurant20To50'].replace(visit_mapper)"
   ]
  },
  {
   "cell_type": "code",
   "execution_count": 44,
   "id": "458276ae",
   "metadata": {},
   "outputs": [],
   "source": [
    "#Dropping columns which were converted into new columns using ordinal encoding.\n",
    "coupon = coupon.drop(axis=1, columns=['Restaurant20To50', 'RestaurantLessThan20', 'Bar', 'CoffeeHouse', 'CarryAway', 'income'])"
   ]
  },
  {
   "cell_type": "markdown",
   "id": "51c9302b",
   "metadata": {},
   "source": [
    "### Categorical Encoding"
   ]
  },
  {
   "cell_type": "markdown",
   "id": "669612c7",
   "metadata": {},
   "source": [
    "For remaining text based columns, one hot encoding is used to get the dummies for the distinct values under this columns."
   ]
  },
  {
   "cell_type": "code",
   "execution_count": 45,
   "id": "dc3eeaa6",
   "metadata": {},
   "outputs": [],
   "source": [
    "coupon = pd.get_dummies(coupon, columns = ['destination', 'passanger', 'weather', 'coupon', 'maritalStatus', 'occupation'])"
   ]
  },
  {
   "cell_type": "markdown",
   "id": "612995ef",
   "metadata": {},
   "source": [
    "### Missing Values"
   ]
  },
  {
   "cell_type": "code",
   "execution_count": 46,
   "id": "5a8b0c5a",
   "metadata": {},
   "outputs": [
    {
     "data": {
      "text/plain": [
       "temperature                                    12684\n",
       "time                                           12684\n",
       "expiration                                     12684\n",
       "gender                                         12684\n",
       "age                                            12684\n",
       "                                               ...  \n",
       "occupation_Retired                             12684\n",
       "occupation_Sales & Related                     12684\n",
       "occupation_Student                             12684\n",
       "occupation_Transportation & Material Moving    12684\n",
       "occupation_Unemployed                          12684\n",
       "Length: 65, dtype: int64"
      ]
     },
     "execution_count": 46,
     "metadata": {},
     "output_type": "execute_result"
    }
   ],
   "source": [
    "#Checking count to look at missing values.\n",
    "coupon.count()"
   ]
  },
  {
   "cell_type": "markdown",
   "id": "50b818eb",
   "metadata": {},
   "source": [
    "#### Using imputer to get median"
   ]
  },
  {
   "cell_type": "code",
   "execution_count": 47,
   "id": "22bde6cb",
   "metadata": {},
   "outputs": [],
   "source": [
    "imputer = SimpleImputer(strategy=\"median\")"
   ]
  },
  {
   "cell_type": "code",
   "execution_count": 48,
   "id": "ad19ad17",
   "metadata": {},
   "outputs": [
    {
     "data": {
      "text/plain": [
       "array([1., 1., 2., 2., 1.])"
      ]
     },
     "execution_count": 48,
     "metadata": {},
     "output_type": "execute_result"
    }
   ],
   "source": [
    "imputer.fit(coupon[['Bar_ord', 'CoffeeHouse_ord', 'CarryAway_ord', 'RestLT20_ord', 'Rest20To50_ord']])\n",
    "imputer.statistics_"
   ]
  },
  {
   "cell_type": "code",
   "execution_count": 49,
   "id": "a7867ef9",
   "metadata": {},
   "outputs": [
    {
     "name": "stdout",
     "output_type": "stream",
     "text": [
      "0    0.0\n",
      "dtype: float64\n",
      "0    1.0\n",
      "dtype: float64\n",
      "0    2.0\n",
      "dtype: float64\n",
      "0    2.0\n",
      "dtype: float64\n",
      "0    1.0\n",
      "dtype: float64\n"
     ]
    }
   ],
   "source": [
    "print(coupon['Bar_ord'].mode())\n",
    "print(coupon['CoffeeHouse_ord'].mode())\n",
    "print(coupon['CarryAway_ord'].mode())\n",
    "print(coupon['RestLT20_ord'].mode())\n",
    "print(coupon['Rest20To50_ord'].mode())"
   ]
  },
  {
   "cell_type": "markdown",
   "id": "694cb6ee",
   "metadata": {},
   "source": [
    "### Median and Mode of columns with missing values\n",
    " - Since below columns have missing values, noting the median and mode for these columns\n",
    "\n",
    "|Columns | Median | Mode | \n",
    "| ------------- |-------------| ------|\n",
    "| Bar | 1 | 0 |\n",
    "| CoffeeHouse | 1 | 1 | \n",
    "| CarryAway | 2 | 2 | \n",
    "| RestaurantLessThan20 | 2 | 2 |\n",
    "| Restaurant20To50 | 1 | 1 |"
   ]
  },
  {
   "cell_type": "markdown",
   "id": "f08f3baa",
   "metadata": {},
   "source": [
    "#### Replacing missing values with median using imputer"
   ]
  },
  {
   "cell_type": "code",
   "execution_count": 50,
   "id": "0c8fff59",
   "metadata": {},
   "outputs": [],
   "source": [
    "coupon[['Bar_ord', 'CoffeeHouse_ord', 'CarryAway_ord', 'RestLT20_ord', 'Rest20To50_ord']] = imputer.transform(coupon[['Bar_ord', 'CoffeeHouse_ord', 'CarryAway_ord', 'RestLT20_ord', 'Rest20To50_ord']])"
   ]
  },
  {
   "cell_type": "code",
   "execution_count": 51,
   "id": "f47a32aa",
   "metadata": {},
   "outputs": [
    {
     "data": {
      "text/plain": [
       "temperature                                    12684\n",
       "time                                           12684\n",
       "expiration                                     12684\n",
       "gender                                         12684\n",
       "age                                            12684\n",
       "                                               ...  \n",
       "occupation_Retired                             12684\n",
       "occupation_Sales & Related                     12684\n",
       "occupation_Student                             12684\n",
       "occupation_Transportation & Material Moving    12684\n",
       "occupation_Unemployed                          12684\n",
       "Length: 65, dtype: int64"
      ]
     },
     "execution_count": 51,
     "metadata": {},
     "output_type": "execute_result"
    }
   ],
   "source": [
    "coupon.count()"
   ]
  },
  {
   "cell_type": "markdown",
   "id": "66d4ea17",
   "metadata": {},
   "source": [
    "The count is now consistent"
   ]
  },
  {
   "cell_type": "markdown",
   "id": "041d0dfc",
   "metadata": {},
   "source": [
    "### Correlation Matrix"
   ]
  },
  {
   "cell_type": "code",
   "execution_count": 52,
   "id": "db8c575f",
   "metadata": {},
   "outputs": [
    {
     "data": {
      "text/html": [
       "<div>\n",
       "<style scoped>\n",
       "    .dataframe tbody tr th:only-of-type {\n",
       "        vertical-align: middle;\n",
       "    }\n",
       "\n",
       "    .dataframe tbody tr th {\n",
       "        vertical-align: top;\n",
       "    }\n",
       "\n",
       "    .dataframe thead th {\n",
       "        text-align: right;\n",
       "    }\n",
       "</style>\n",
       "<table border=\"1\" class=\"dataframe\">\n",
       "  <thead>\n",
       "    <tr style=\"text-align: right;\">\n",
       "      <th></th>\n",
       "      <th>temperature</th>\n",
       "      <th>time</th>\n",
       "      <th>has_children</th>\n",
       "      <th>education</th>\n",
       "      <th>toCoupon_GEQ15min</th>\n",
       "      <th>toCoupon_GEQ25min</th>\n",
       "      <th>direction_same</th>\n",
       "      <th>direction_opp</th>\n",
       "      <th>Y</th>\n",
       "      <th>income_ord</th>\n",
       "      <th>...</th>\n",
       "      <th>occupation_Management</th>\n",
       "      <th>occupation_Office &amp; Administrative Support</th>\n",
       "      <th>occupation_Personal Care &amp; Service</th>\n",
       "      <th>occupation_Production Occupations</th>\n",
       "      <th>occupation_Protective Service</th>\n",
       "      <th>occupation_Retired</th>\n",
       "      <th>occupation_Sales &amp; Related</th>\n",
       "      <th>occupation_Student</th>\n",
       "      <th>occupation_Transportation &amp; Material Moving</th>\n",
       "      <th>occupation_Unemployed</th>\n",
       "    </tr>\n",
       "  </thead>\n",
       "  <tbody>\n",
       "    <tr>\n",
       "      <th>temperature</th>\n",
       "      <td>1.000000</td>\n",
       "      <td>-0.044991</td>\n",
       "      <td>-0.019716</td>\n",
       "      <td>0.008462</td>\n",
       "      <td>-0.155332</td>\n",
       "      <td>-0.216254</td>\n",
       "      <td>0.097085</td>\n",
       "      <td>-0.097085</td>\n",
       "      <td>0.061240</td>\n",
       "      <td>-0.030233</td>\n",
       "      <td>...</td>\n",
       "      <td>0.041312</td>\n",
       "      <td>-0.019381</td>\n",
       "      <td>-0.003628</td>\n",
       "      <td>0.000524</td>\n",
       "      <td>0.024602</td>\n",
       "      <td>0.022649</td>\n",
       "      <td>-0.003650</td>\n",
       "      <td>0.023034</td>\n",
       "      <td>0.002065</td>\n",
       "      <td>-0.029308</td>\n",
       "    </tr>\n",
       "    <tr>\n",
       "      <th>time</th>\n",
       "      <td>-0.044991</td>\n",
       "      <td>1.000000</td>\n",
       "      <td>0.026965</td>\n",
       "      <td>0.009610</td>\n",
       "      <td>-0.061299</td>\n",
       "      <td>-0.188325</td>\n",
       "      <td>0.002614</td>\n",
       "      <td>-0.002614</td>\n",
       "      <td>0.010271</td>\n",
       "      <td>0.010190</td>\n",
       "      <td>...</td>\n",
       "      <td>-0.021263</td>\n",
       "      <td>0.001324</td>\n",
       "      <td>0.003806</td>\n",
       "      <td>0.008139</td>\n",
       "      <td>-0.011314</td>\n",
       "      <td>-0.013700</td>\n",
       "      <td>0.000804</td>\n",
       "      <td>-0.007331</td>\n",
       "      <td>0.000021</td>\n",
       "      <td>0.020315</td>\n",
       "    </tr>\n",
       "    <tr>\n",
       "      <th>has_children</th>\n",
       "      <td>-0.019716</td>\n",
       "      <td>0.026965</td>\n",
       "      <td>1.000000</td>\n",
       "      <td>0.081296</td>\n",
       "      <td>0.078211</td>\n",
       "      <td>-0.013722</td>\n",
       "      <td>-0.031620</td>\n",
       "      <td>0.031620</td>\n",
       "      <td>-0.045557</td>\n",
       "      <td>0.090754</td>\n",
       "      <td>...</td>\n",
       "      <td>0.065045</td>\n",
       "      <td>-0.048764</td>\n",
       "      <td>0.081676</td>\n",
       "      <td>-0.002686</td>\n",
       "      <td>-0.010257</td>\n",
       "      <td>0.114056</td>\n",
       "      <td>-0.046576</td>\n",
       "      <td>-0.222232</td>\n",
       "      <td>0.048911</td>\n",
       "      <td>-0.014198</td>\n",
       "    </tr>\n",
       "    <tr>\n",
       "      <th>education</th>\n",
       "      <td>0.008462</td>\n",
       "      <td>0.009610</td>\n",
       "      <td>0.081296</td>\n",
       "      <td>1.000000</td>\n",
       "      <td>0.022575</td>\n",
       "      <td>0.003603</td>\n",
       "      <td>-0.003433</td>\n",
       "      <td>0.003433</td>\n",
       "      <td>-0.052902</td>\n",
       "      <td>0.291567</td>\n",
       "      <td>...</td>\n",
       "      <td>0.100946</td>\n",
       "      <td>-0.079866</td>\n",
       "      <td>-0.012431</td>\n",
       "      <td>-0.068553</td>\n",
       "      <td>-0.047691</td>\n",
       "      <td>0.051814</td>\n",
       "      <td>-0.032885</td>\n",
       "      <td>-0.145635</td>\n",
       "      <td>-0.066045</td>\n",
       "      <td>-0.114949</td>\n",
       "    </tr>\n",
       "    <tr>\n",
       "      <th>toCoupon_GEQ15min</th>\n",
       "      <td>-0.155332</td>\n",
       "      <td>-0.061299</td>\n",
       "      <td>0.078211</td>\n",
       "      <td>0.022575</td>\n",
       "      <td>1.000000</td>\n",
       "      <td>0.324984</td>\n",
       "      <td>-0.303533</td>\n",
       "      <td>0.303533</td>\n",
       "      <td>-0.081602</td>\n",
       "      <td>0.020129</td>\n",
       "      <td>...</td>\n",
       "      <td>0.002218</td>\n",
       "      <td>-0.004936</td>\n",
       "      <td>0.010540</td>\n",
       "      <td>0.002117</td>\n",
       "      <td>0.002368</td>\n",
       "      <td>0.004152</td>\n",
       "      <td>-0.015692</td>\n",
       "      <td>-0.019421</td>\n",
       "      <td>-0.002941</td>\n",
       "      <td>-0.002687</td>\n",
       "    </tr>\n",
       "    <tr>\n",
       "      <th>...</th>\n",
       "      <td>...</td>\n",
       "      <td>...</td>\n",
       "      <td>...</td>\n",
       "      <td>...</td>\n",
       "      <td>...</td>\n",
       "      <td>...</td>\n",
       "      <td>...</td>\n",
       "      <td>...</td>\n",
       "      <td>...</td>\n",
       "      <td>...</td>\n",
       "      <td>...</td>\n",
       "      <td>...</td>\n",
       "      <td>...</td>\n",
       "      <td>...</td>\n",
       "      <td>...</td>\n",
       "      <td>...</td>\n",
       "      <td>...</td>\n",
       "      <td>...</td>\n",
       "      <td>...</td>\n",
       "      <td>...</td>\n",
       "      <td>...</td>\n",
       "    </tr>\n",
       "    <tr>\n",
       "      <th>occupation_Retired</th>\n",
       "      <td>0.022649</td>\n",
       "      <td>-0.013700</td>\n",
       "      <td>0.114056</td>\n",
       "      <td>0.051814</td>\n",
       "      <td>0.004152</td>\n",
       "      <td>0.000041</td>\n",
       "      <td>-0.007243</td>\n",
       "      <td>0.007243</td>\n",
       "      <td>-0.044693</td>\n",
       "      <td>-0.002094</td>\n",
       "      <td>...</td>\n",
       "      <td>-0.053599</td>\n",
       "      <td>-0.046416</td>\n",
       "      <td>-0.023836</td>\n",
       "      <td>-0.018849</td>\n",
       "      <td>-0.023836</td>\n",
       "      <td>1.000000</td>\n",
       "      <td>-0.061883</td>\n",
       "      <td>-0.076126</td>\n",
       "      <td>-0.026649</td>\n",
       "      <td>-0.083800</td>\n",
       "    </tr>\n",
       "    <tr>\n",
       "      <th>occupation_Sales &amp; Related</th>\n",
       "      <td>-0.003650</td>\n",
       "      <td>0.000804</td>\n",
       "      <td>-0.046576</td>\n",
       "      <td>-0.032885</td>\n",
       "      <td>-0.015692</td>\n",
       "      <td>0.000689</td>\n",
       "      <td>0.002920</td>\n",
       "      <td>-0.002920</td>\n",
       "      <td>-0.003572</td>\n",
       "      <td>-0.063590</td>\n",
       "      <td>...</td>\n",
       "      <td>-0.081674</td>\n",
       "      <td>-0.070729</td>\n",
       "      <td>-0.036321</td>\n",
       "      <td>-0.028722</td>\n",
       "      <td>-0.036321</td>\n",
       "      <td>-0.061883</td>\n",
       "      <td>1.000000</td>\n",
       "      <td>-0.116002</td>\n",
       "      <td>-0.040608</td>\n",
       "      <td>-0.127696</td>\n",
       "    </tr>\n",
       "    <tr>\n",
       "      <th>occupation_Student</th>\n",
       "      <td>0.023034</td>\n",
       "      <td>-0.007331</td>\n",
       "      <td>-0.222232</td>\n",
       "      <td>-0.145635</td>\n",
       "      <td>-0.019421</td>\n",
       "      <td>0.003905</td>\n",
       "      <td>0.026030</td>\n",
       "      <td>-0.026030</td>\n",
       "      <td>0.032069</td>\n",
       "      <td>-0.117955</td>\n",
       "      <td>...</td>\n",
       "      <td>-0.100474</td>\n",
       "      <td>-0.087009</td>\n",
       "      <td>-0.044681</td>\n",
       "      <td>-0.035333</td>\n",
       "      <td>-0.044681</td>\n",
       "      <td>-0.076126</td>\n",
       "      <td>-0.116002</td>\n",
       "      <td>1.000000</td>\n",
       "      <td>-0.049955</td>\n",
       "      <td>-0.157088</td>\n",
       "    </tr>\n",
       "    <tr>\n",
       "      <th>occupation_Transportation &amp; Material Moving</th>\n",
       "      <td>0.002065</td>\n",
       "      <td>0.000021</td>\n",
       "      <td>0.048911</td>\n",
       "      <td>-0.066045</td>\n",
       "      <td>-0.002941</td>\n",
       "      <td>-0.001816</td>\n",
       "      <td>-0.004162</td>\n",
       "      <td>0.004162</td>\n",
       "      <td>0.007448</td>\n",
       "      <td>-0.002199</td>\n",
       "      <td>...</td>\n",
       "      <td>-0.035172</td>\n",
       "      <td>-0.030459</td>\n",
       "      <td>-0.015641</td>\n",
       "      <td>-0.012369</td>\n",
       "      <td>-0.015641</td>\n",
       "      <td>-0.026649</td>\n",
       "      <td>-0.040608</td>\n",
       "      <td>-0.049955</td>\n",
       "      <td>1.000000</td>\n",
       "      <td>-0.054991</td>\n",
       "    </tr>\n",
       "    <tr>\n",
       "      <th>occupation_Unemployed</th>\n",
       "      <td>-0.029308</td>\n",
       "      <td>0.020315</td>\n",
       "      <td>-0.014198</td>\n",
       "      <td>-0.114949</td>\n",
       "      <td>-0.002687</td>\n",
       "      <td>0.011144</td>\n",
       "      <td>0.020795</td>\n",
       "      <td>-0.020795</td>\n",
       "      <td>-0.017047</td>\n",
       "      <td>-0.083137</td>\n",
       "      <td>...</td>\n",
       "      <td>-0.110602</td>\n",
       "      <td>-0.095780</td>\n",
       "      <td>-0.049185</td>\n",
       "      <td>-0.038894</td>\n",
       "      <td>-0.049185</td>\n",
       "      <td>-0.083800</td>\n",
       "      <td>-0.127696</td>\n",
       "      <td>-0.157088</td>\n",
       "      <td>-0.054991</td>\n",
       "      <td>1.000000</td>\n",
       "    </tr>\n",
       "  </tbody>\n",
       "</table>\n",
       "<p>62 rows × 62 columns</p>\n",
       "</div>"
      ],
      "text/plain": [
       "                                             temperature      time  \\\n",
       "temperature                                     1.000000 -0.044991   \n",
       "time                                           -0.044991  1.000000   \n",
       "has_children                                   -0.019716  0.026965   \n",
       "education                                       0.008462  0.009610   \n",
       "toCoupon_GEQ15min                              -0.155332 -0.061299   \n",
       "...                                                  ...       ...   \n",
       "occupation_Retired                              0.022649 -0.013700   \n",
       "occupation_Sales & Related                     -0.003650  0.000804   \n",
       "occupation_Student                              0.023034 -0.007331   \n",
       "occupation_Transportation & Material Moving     0.002065  0.000021   \n",
       "occupation_Unemployed                          -0.029308  0.020315   \n",
       "\n",
       "                                             has_children  education  \\\n",
       "temperature                                     -0.019716   0.008462   \n",
       "time                                             0.026965   0.009610   \n",
       "has_children                                     1.000000   0.081296   \n",
       "education                                        0.081296   1.000000   \n",
       "toCoupon_GEQ15min                                0.078211   0.022575   \n",
       "...                                                   ...        ...   \n",
       "occupation_Retired                               0.114056   0.051814   \n",
       "occupation_Sales & Related                      -0.046576  -0.032885   \n",
       "occupation_Student                              -0.222232  -0.145635   \n",
       "occupation_Transportation & Material Moving      0.048911  -0.066045   \n",
       "occupation_Unemployed                           -0.014198  -0.114949   \n",
       "\n",
       "                                             toCoupon_GEQ15min  \\\n",
       "temperature                                          -0.155332   \n",
       "time                                                 -0.061299   \n",
       "has_children                                          0.078211   \n",
       "education                                             0.022575   \n",
       "toCoupon_GEQ15min                                     1.000000   \n",
       "...                                                        ...   \n",
       "occupation_Retired                                    0.004152   \n",
       "occupation_Sales & Related                           -0.015692   \n",
       "occupation_Student                                   -0.019421   \n",
       "occupation_Transportation & Material Moving          -0.002941   \n",
       "occupation_Unemployed                                -0.002687   \n",
       "\n",
       "                                             toCoupon_GEQ25min  \\\n",
       "temperature                                          -0.216254   \n",
       "time                                                 -0.188325   \n",
       "has_children                                         -0.013722   \n",
       "education                                             0.003603   \n",
       "toCoupon_GEQ15min                                     0.324984   \n",
       "...                                                        ...   \n",
       "occupation_Retired                                    0.000041   \n",
       "occupation_Sales & Related                            0.000689   \n",
       "occupation_Student                                    0.003905   \n",
       "occupation_Transportation & Material Moving          -0.001816   \n",
       "occupation_Unemployed                                 0.011144   \n",
       "\n",
       "                                             direction_same  direction_opp  \\\n",
       "temperature                                        0.097085      -0.097085   \n",
       "time                                               0.002614      -0.002614   \n",
       "has_children                                      -0.031620       0.031620   \n",
       "education                                         -0.003433       0.003433   \n",
       "toCoupon_GEQ15min                                 -0.303533       0.303533   \n",
       "...                                                     ...            ...   \n",
       "occupation_Retired                                -0.007243       0.007243   \n",
       "occupation_Sales & Related                         0.002920      -0.002920   \n",
       "occupation_Student                                 0.026030      -0.026030   \n",
       "occupation_Transportation & Material Moving       -0.004162       0.004162   \n",
       "occupation_Unemployed                              0.020795      -0.020795   \n",
       "\n",
       "                                                    Y  income_ord  ...  \\\n",
       "temperature                                  0.061240   -0.030233  ...   \n",
       "time                                         0.010271    0.010190  ...   \n",
       "has_children                                -0.045557    0.090754  ...   \n",
       "education                                   -0.052902    0.291567  ...   \n",
       "toCoupon_GEQ15min                           -0.081602    0.020129  ...   \n",
       "...                                               ...         ...  ...   \n",
       "occupation_Retired                          -0.044693   -0.002094  ...   \n",
       "occupation_Sales & Related                  -0.003572   -0.063590  ...   \n",
       "occupation_Student                           0.032069   -0.117955  ...   \n",
       "occupation_Transportation & Material Moving  0.007448   -0.002199  ...   \n",
       "occupation_Unemployed                       -0.017047   -0.083137  ...   \n",
       "\n",
       "                                             occupation_Management  \\\n",
       "temperature                                               0.041312   \n",
       "time                                                     -0.021263   \n",
       "has_children                                              0.065045   \n",
       "education                                                 0.100946   \n",
       "toCoupon_GEQ15min                                         0.002218   \n",
       "...                                                            ...   \n",
       "occupation_Retired                                       -0.053599   \n",
       "occupation_Sales & Related                               -0.081674   \n",
       "occupation_Student                                       -0.100474   \n",
       "occupation_Transportation & Material Moving              -0.035172   \n",
       "occupation_Unemployed                                    -0.110602   \n",
       "\n",
       "                                             occupation_Office & Administrative Support  \\\n",
       "temperature                                                                   -0.019381   \n",
       "time                                                                           0.001324   \n",
       "has_children                                                                  -0.048764   \n",
       "education                                                                     -0.079866   \n",
       "toCoupon_GEQ15min                                                             -0.004936   \n",
       "...                                                                                 ...   \n",
       "occupation_Retired                                                            -0.046416   \n",
       "occupation_Sales & Related                                                    -0.070729   \n",
       "occupation_Student                                                            -0.087009   \n",
       "occupation_Transportation & Material Moving                                   -0.030459   \n",
       "occupation_Unemployed                                                         -0.095780   \n",
       "\n",
       "                                             occupation_Personal Care & Service  \\\n",
       "temperature                                                           -0.003628   \n",
       "time                                                                   0.003806   \n",
       "has_children                                                           0.081676   \n",
       "education                                                             -0.012431   \n",
       "toCoupon_GEQ15min                                                      0.010540   \n",
       "...                                                                         ...   \n",
       "occupation_Retired                                                    -0.023836   \n",
       "occupation_Sales & Related                                            -0.036321   \n",
       "occupation_Student                                                    -0.044681   \n",
       "occupation_Transportation & Material Moving                           -0.015641   \n",
       "occupation_Unemployed                                                 -0.049185   \n",
       "\n",
       "                                             occupation_Production Occupations  \\\n",
       "temperature                                                           0.000524   \n",
       "time                                                                  0.008139   \n",
       "has_children                                                         -0.002686   \n",
       "education                                                            -0.068553   \n",
       "toCoupon_GEQ15min                                                     0.002117   \n",
       "...                                                                        ...   \n",
       "occupation_Retired                                                   -0.018849   \n",
       "occupation_Sales & Related                                           -0.028722   \n",
       "occupation_Student                                                   -0.035333   \n",
       "occupation_Transportation & Material Moving                          -0.012369   \n",
       "occupation_Unemployed                                                -0.038894   \n",
       "\n",
       "                                             occupation_Protective Service  \\\n",
       "temperature                                                       0.024602   \n",
       "time                                                             -0.011314   \n",
       "has_children                                                     -0.010257   \n",
       "education                                                        -0.047691   \n",
       "toCoupon_GEQ15min                                                 0.002368   \n",
       "...                                                                    ...   \n",
       "occupation_Retired                                               -0.023836   \n",
       "occupation_Sales & Related                                       -0.036321   \n",
       "occupation_Student                                               -0.044681   \n",
       "occupation_Transportation & Material Moving                      -0.015641   \n",
       "occupation_Unemployed                                            -0.049185   \n",
       "\n",
       "                                             occupation_Retired  \\\n",
       "temperature                                            0.022649   \n",
       "time                                                  -0.013700   \n",
       "has_children                                           0.114056   \n",
       "education                                              0.051814   \n",
       "toCoupon_GEQ15min                                      0.004152   \n",
       "...                                                         ...   \n",
       "occupation_Retired                                     1.000000   \n",
       "occupation_Sales & Related                            -0.061883   \n",
       "occupation_Student                                    -0.076126   \n",
       "occupation_Transportation & Material Moving           -0.026649   \n",
       "occupation_Unemployed                                 -0.083800   \n",
       "\n",
       "                                             occupation_Sales & Related  \\\n",
       "temperature                                                   -0.003650   \n",
       "time                                                           0.000804   \n",
       "has_children                                                  -0.046576   \n",
       "education                                                     -0.032885   \n",
       "toCoupon_GEQ15min                                             -0.015692   \n",
       "...                                                                 ...   \n",
       "occupation_Retired                                            -0.061883   \n",
       "occupation_Sales & Related                                     1.000000   \n",
       "occupation_Student                                            -0.116002   \n",
       "occupation_Transportation & Material Moving                   -0.040608   \n",
       "occupation_Unemployed                                         -0.127696   \n",
       "\n",
       "                                             occupation_Student  \\\n",
       "temperature                                            0.023034   \n",
       "time                                                  -0.007331   \n",
       "has_children                                          -0.222232   \n",
       "education                                             -0.145635   \n",
       "toCoupon_GEQ15min                                     -0.019421   \n",
       "...                                                         ...   \n",
       "occupation_Retired                                    -0.076126   \n",
       "occupation_Sales & Related                            -0.116002   \n",
       "occupation_Student                                     1.000000   \n",
       "occupation_Transportation & Material Moving           -0.049955   \n",
       "occupation_Unemployed                                 -0.157088   \n",
       "\n",
       "                                             occupation_Transportation & Material Moving  \\\n",
       "temperature                                                                     0.002065   \n",
       "time                                                                            0.000021   \n",
       "has_children                                                                    0.048911   \n",
       "education                                                                      -0.066045   \n",
       "toCoupon_GEQ15min                                                              -0.002941   \n",
       "...                                                                                  ...   \n",
       "occupation_Retired                                                             -0.026649   \n",
       "occupation_Sales & Related                                                     -0.040608   \n",
       "occupation_Student                                                             -0.049955   \n",
       "occupation_Transportation & Material Moving                                     1.000000   \n",
       "occupation_Unemployed                                                          -0.054991   \n",
       "\n",
       "                                             occupation_Unemployed  \n",
       "temperature                                              -0.029308  \n",
       "time                                                      0.020315  \n",
       "has_children                                             -0.014198  \n",
       "education                                                -0.114949  \n",
       "toCoupon_GEQ15min                                        -0.002687  \n",
       "...                                                            ...  \n",
       "occupation_Retired                                       -0.083800  \n",
       "occupation_Sales & Related                               -0.127696  \n",
       "occupation_Student                                       -0.157088  \n",
       "occupation_Transportation & Material Moving              -0.054991  \n",
       "occupation_Unemployed                                     1.000000  \n",
       "\n",
       "[62 rows x 62 columns]"
      ]
     },
     "execution_count": 52,
     "metadata": {},
     "output_type": "execute_result"
    }
   ],
   "source": [
    "coupon.corr()"
   ]
  },
  {
   "cell_type": "markdown",
   "id": "4fe7df6b",
   "metadata": {},
   "source": [
    "The correlation amongst variables and with target variables is low."
   ]
  },
  {
   "cell_type": "code",
   "execution_count": 53,
   "id": "90a720e9",
   "metadata": {},
   "outputs": [
    {
     "data": {
      "text/html": [
       "<div>\n",
       "<style scoped>\n",
       "    .dataframe tbody tr th:only-of-type {\n",
       "        vertical-align: middle;\n",
       "    }\n",
       "\n",
       "    .dataframe tbody tr th {\n",
       "        vertical-align: top;\n",
       "    }\n",
       "\n",
       "    .dataframe thead th {\n",
       "        text-align: right;\n",
       "    }\n",
       "</style>\n",
       "<table border=\"1\" class=\"dataframe\">\n",
       "  <thead>\n",
       "    <tr style=\"text-align: right;\">\n",
       "      <th></th>\n",
       "      <th>temperature</th>\n",
       "      <th>time</th>\n",
       "      <th>has_children</th>\n",
       "      <th>education</th>\n",
       "      <th>toCoupon_GEQ15min</th>\n",
       "      <th>toCoupon_GEQ25min</th>\n",
       "      <th>direction_same</th>\n",
       "      <th>direction_opp</th>\n",
       "      <th>Y</th>\n",
       "      <th>income_ord</th>\n",
       "      <th>...</th>\n",
       "      <th>occupation_Management</th>\n",
       "      <th>occupation_Office &amp; Administrative Support</th>\n",
       "      <th>occupation_Personal Care &amp; Service</th>\n",
       "      <th>occupation_Production Occupations</th>\n",
       "      <th>occupation_Protective Service</th>\n",
       "      <th>occupation_Retired</th>\n",
       "      <th>occupation_Sales &amp; Related</th>\n",
       "      <th>occupation_Student</th>\n",
       "      <th>occupation_Transportation &amp; Material Moving</th>\n",
       "      <th>occupation_Unemployed</th>\n",
       "    </tr>\n",
       "  </thead>\n",
       "  <tbody>\n",
       "    <tr>\n",
       "      <th>count</th>\n",
       "      <td>12684.000000</td>\n",
       "      <td>12684.000000</td>\n",
       "      <td>12684.000000</td>\n",
       "      <td>12684.000000</td>\n",
       "      <td>12684.000000</td>\n",
       "      <td>12684.000000</td>\n",
       "      <td>12684.000000</td>\n",
       "      <td>12684.000000</td>\n",
       "      <td>12684.000000</td>\n",
       "      <td>12684.000000</td>\n",
       "      <td>...</td>\n",
       "      <td>12684.000000</td>\n",
       "      <td>12684.000000</td>\n",
       "      <td>12684.000000</td>\n",
       "      <td>12684.000000</td>\n",
       "      <td>12684.000000</td>\n",
       "      <td>12684.000000</td>\n",
       "      <td>12684.000000</td>\n",
       "      <td>12684.000000</td>\n",
       "      <td>12684.000000</td>\n",
       "      <td>12684.000000</td>\n",
       "    </tr>\n",
       "    <tr>\n",
       "      <th>mean</th>\n",
       "      <td>63.301798</td>\n",
       "      <td>13.820246</td>\n",
       "      <td>0.414144</td>\n",
       "      <td>4.127247</td>\n",
       "      <td>0.561495</td>\n",
       "      <td>0.119126</td>\n",
       "      <td>0.214759</td>\n",
       "      <td>0.785241</td>\n",
       "      <td>0.568433</td>\n",
       "      <td>4.739593</td>\n",
       "      <td>...</td>\n",
       "      <td>0.066067</td>\n",
       "      <td>0.050378</td>\n",
       "      <td>0.013797</td>\n",
       "      <td>0.008672</td>\n",
       "      <td>0.013797</td>\n",
       "      <td>0.039026</td>\n",
       "      <td>0.086172</td>\n",
       "      <td>0.124882</td>\n",
       "      <td>0.017187</td>\n",
       "      <td>0.147430</td>\n",
       "    </tr>\n",
       "    <tr>\n",
       "      <th>std</th>\n",
       "      <td>19.154486</td>\n",
       "      <td>5.409146</td>\n",
       "      <td>0.492593</td>\n",
       "      <td>1.265155</td>\n",
       "      <td>0.496224</td>\n",
       "      <td>0.323950</td>\n",
       "      <td>0.410671</td>\n",
       "      <td>0.410671</td>\n",
       "      <td>0.495314</td>\n",
       "      <td>2.546622</td>\n",
       "      <td>...</td>\n",
       "      <td>0.248410</td>\n",
       "      <td>0.218733</td>\n",
       "      <td>0.116652</td>\n",
       "      <td>0.092724</td>\n",
       "      <td>0.116652</td>\n",
       "      <td>0.193663</td>\n",
       "      <td>0.280628</td>\n",
       "      <td>0.330598</td>\n",
       "      <td>0.129973</td>\n",
       "      <td>0.354548</td>\n",
       "    </tr>\n",
       "    <tr>\n",
       "      <th>min</th>\n",
       "      <td>30.000000</td>\n",
       "      <td>7.000000</td>\n",
       "      <td>0.000000</td>\n",
       "      <td>1.000000</td>\n",
       "      <td>0.000000</td>\n",
       "      <td>0.000000</td>\n",
       "      <td>0.000000</td>\n",
       "      <td>0.000000</td>\n",
       "      <td>0.000000</td>\n",
       "      <td>1.000000</td>\n",
       "      <td>...</td>\n",
       "      <td>0.000000</td>\n",
       "      <td>0.000000</td>\n",
       "      <td>0.000000</td>\n",
       "      <td>0.000000</td>\n",
       "      <td>0.000000</td>\n",
       "      <td>0.000000</td>\n",
       "      <td>0.000000</td>\n",
       "      <td>0.000000</td>\n",
       "      <td>0.000000</td>\n",
       "      <td>0.000000</td>\n",
       "    </tr>\n",
       "    <tr>\n",
       "      <th>25%</th>\n",
       "      <td>55.000000</td>\n",
       "      <td>10.000000</td>\n",
       "      <td>0.000000</td>\n",
       "      <td>3.000000</td>\n",
       "      <td>0.000000</td>\n",
       "      <td>0.000000</td>\n",
       "      <td>0.000000</td>\n",
       "      <td>1.000000</td>\n",
       "      <td>0.000000</td>\n",
       "      <td>3.000000</td>\n",
       "      <td>...</td>\n",
       "      <td>0.000000</td>\n",
       "      <td>0.000000</td>\n",
       "      <td>0.000000</td>\n",
       "      <td>0.000000</td>\n",
       "      <td>0.000000</td>\n",
       "      <td>0.000000</td>\n",
       "      <td>0.000000</td>\n",
       "      <td>0.000000</td>\n",
       "      <td>0.000000</td>\n",
       "      <td>0.000000</td>\n",
       "    </tr>\n",
       "    <tr>\n",
       "      <th>50%</th>\n",
       "      <td>80.000000</td>\n",
       "      <td>14.000000</td>\n",
       "      <td>0.000000</td>\n",
       "      <td>4.000000</td>\n",
       "      <td>1.000000</td>\n",
       "      <td>0.000000</td>\n",
       "      <td>0.000000</td>\n",
       "      <td>1.000000</td>\n",
       "      <td>1.000000</td>\n",
       "      <td>4.000000</td>\n",
       "      <td>...</td>\n",
       "      <td>0.000000</td>\n",
       "      <td>0.000000</td>\n",
       "      <td>0.000000</td>\n",
       "      <td>0.000000</td>\n",
       "      <td>0.000000</td>\n",
       "      <td>0.000000</td>\n",
       "      <td>0.000000</td>\n",
       "      <td>0.000000</td>\n",
       "      <td>0.000000</td>\n",
       "      <td>0.000000</td>\n",
       "    </tr>\n",
       "    <tr>\n",
       "      <th>75%</th>\n",
       "      <td>80.000000</td>\n",
       "      <td>18.000000</td>\n",
       "      <td>1.000000</td>\n",
       "      <td>5.000000</td>\n",
       "      <td>1.000000</td>\n",
       "      <td>0.000000</td>\n",
       "      <td>0.000000</td>\n",
       "      <td>1.000000</td>\n",
       "      <td>1.000000</td>\n",
       "      <td>7.000000</td>\n",
       "      <td>...</td>\n",
       "      <td>0.000000</td>\n",
       "      <td>0.000000</td>\n",
       "      <td>0.000000</td>\n",
       "      <td>0.000000</td>\n",
       "      <td>0.000000</td>\n",
       "      <td>0.000000</td>\n",
       "      <td>0.000000</td>\n",
       "      <td>0.000000</td>\n",
       "      <td>0.000000</td>\n",
       "      <td>0.000000</td>\n",
       "    </tr>\n",
       "    <tr>\n",
       "      <th>max</th>\n",
       "      <td>80.000000</td>\n",
       "      <td>22.000000</td>\n",
       "      <td>1.000000</td>\n",
       "      <td>6.000000</td>\n",
       "      <td>1.000000</td>\n",
       "      <td>1.000000</td>\n",
       "      <td>1.000000</td>\n",
       "      <td>1.000000</td>\n",
       "      <td>1.000000</td>\n",
       "      <td>9.000000</td>\n",
       "      <td>...</td>\n",
       "      <td>1.000000</td>\n",
       "      <td>1.000000</td>\n",
       "      <td>1.000000</td>\n",
       "      <td>1.000000</td>\n",
       "      <td>1.000000</td>\n",
       "      <td>1.000000</td>\n",
       "      <td>1.000000</td>\n",
       "      <td>1.000000</td>\n",
       "      <td>1.000000</td>\n",
       "      <td>1.000000</td>\n",
       "    </tr>\n",
       "  </tbody>\n",
       "</table>\n",
       "<p>8 rows × 62 columns</p>\n",
       "</div>"
      ],
      "text/plain": [
       "        temperature          time  has_children     education  \\\n",
       "count  12684.000000  12684.000000  12684.000000  12684.000000   \n",
       "mean      63.301798     13.820246      0.414144      4.127247   \n",
       "std       19.154486      5.409146      0.492593      1.265155   \n",
       "min       30.000000      7.000000      0.000000      1.000000   \n",
       "25%       55.000000     10.000000      0.000000      3.000000   \n",
       "50%       80.000000     14.000000      0.000000      4.000000   \n",
       "75%       80.000000     18.000000      1.000000      5.000000   \n",
       "max       80.000000     22.000000      1.000000      6.000000   \n",
       "\n",
       "       toCoupon_GEQ15min  toCoupon_GEQ25min  direction_same  direction_opp  \\\n",
       "count       12684.000000       12684.000000    12684.000000   12684.000000   \n",
       "mean            0.561495           0.119126        0.214759       0.785241   \n",
       "std             0.496224           0.323950        0.410671       0.410671   \n",
       "min             0.000000           0.000000        0.000000       0.000000   \n",
       "25%             0.000000           0.000000        0.000000       1.000000   \n",
       "50%             1.000000           0.000000        0.000000       1.000000   \n",
       "75%             1.000000           0.000000        0.000000       1.000000   \n",
       "max             1.000000           1.000000        1.000000       1.000000   \n",
       "\n",
       "                  Y    income_ord  ...  occupation_Management  \\\n",
       "count  12684.000000  12684.000000  ...           12684.000000   \n",
       "mean       0.568433      4.739593  ...               0.066067   \n",
       "std        0.495314      2.546622  ...               0.248410   \n",
       "min        0.000000      1.000000  ...               0.000000   \n",
       "25%        0.000000      3.000000  ...               0.000000   \n",
       "50%        1.000000      4.000000  ...               0.000000   \n",
       "75%        1.000000      7.000000  ...               0.000000   \n",
       "max        1.000000      9.000000  ...               1.000000   \n",
       "\n",
       "       occupation_Office & Administrative Support  \\\n",
       "count                                12684.000000   \n",
       "mean                                     0.050378   \n",
       "std                                      0.218733   \n",
       "min                                      0.000000   \n",
       "25%                                      0.000000   \n",
       "50%                                      0.000000   \n",
       "75%                                      0.000000   \n",
       "max                                      1.000000   \n",
       "\n",
       "       occupation_Personal Care & Service  occupation_Production Occupations  \\\n",
       "count                        12684.000000                       12684.000000   \n",
       "mean                             0.013797                           0.008672   \n",
       "std                              0.116652                           0.092724   \n",
       "min                              0.000000                           0.000000   \n",
       "25%                              0.000000                           0.000000   \n",
       "50%                              0.000000                           0.000000   \n",
       "75%                              0.000000                           0.000000   \n",
       "max                              1.000000                           1.000000   \n",
       "\n",
       "       occupation_Protective Service  occupation_Retired  \\\n",
       "count                   12684.000000        12684.000000   \n",
       "mean                        0.013797            0.039026   \n",
       "std                         0.116652            0.193663   \n",
       "min                         0.000000            0.000000   \n",
       "25%                         0.000000            0.000000   \n",
       "50%                         0.000000            0.000000   \n",
       "75%                         0.000000            0.000000   \n",
       "max                         1.000000            1.000000   \n",
       "\n",
       "       occupation_Sales & Related  occupation_Student  \\\n",
       "count                12684.000000        12684.000000   \n",
       "mean                     0.086172            0.124882   \n",
       "std                      0.280628            0.330598   \n",
       "min                      0.000000            0.000000   \n",
       "25%                      0.000000            0.000000   \n",
       "50%                      0.000000            0.000000   \n",
       "75%                      0.000000            0.000000   \n",
       "max                      1.000000            1.000000   \n",
       "\n",
       "       occupation_Transportation & Material Moving  occupation_Unemployed  \n",
       "count                                 12684.000000           12684.000000  \n",
       "mean                                      0.017187               0.147430  \n",
       "std                                       0.129973               0.354548  \n",
       "min                                       0.000000               0.000000  \n",
       "25%                                       0.000000               0.000000  \n",
       "50%                                       0.000000               0.000000  \n",
       "75%                                       0.000000               0.000000  \n",
       "max                                       1.000000               1.000000  \n",
       "\n",
       "[8 rows x 62 columns]"
      ]
     },
     "execution_count": 53,
     "metadata": {},
     "output_type": "execute_result"
    }
   ],
   "source": [
    "coupon.describe()"
   ]
  },
  {
   "cell_type": "markdown",
   "id": "c7b7e2a7",
   "metadata": {},
   "source": [
    "### Hypothesis Testing"
   ]
  },
  {
   "cell_type": "code",
   "execution_count": 54,
   "id": "c16dee19",
   "metadata": {},
   "outputs": [],
   "source": [
    "columns = coupon.columns.tolist()"
   ]
  },
  {
   "cell_type": "code",
   "execution_count": 55,
   "id": "11f75c72",
   "metadata": {},
   "outputs": [],
   "source": [
    "columns.remove('age')"
   ]
  },
  {
   "cell_type": "code",
   "execution_count": 56,
   "id": "2cf29986",
   "metadata": {},
   "outputs": [],
   "source": [
    "hypothesis = []\n",
    "for col in columns:\n",
    "    x1 = coupon.loc[coupon['Y'] == 1, col].to_numpy()\n",
    "    x2 = coupon.loc[coupon['Y'] == 0, col].to_numpy()\n",
    "\n",
    "    res = st.ttest_ind(a=x1, b=x2, equal_var = True)\n",
    "    \n",
    "    hypothesis.append([col, res[0], res[1]])"
   ]
  },
  {
   "cell_type": "code",
   "execution_count": 57,
   "id": "312e34e5",
   "metadata": {},
   "outputs": [
    {
     "data": {
      "text/html": [
       "<div>\n",
       "<style scoped>\n",
       "    .dataframe tbody tr th:only-of-type {\n",
       "        vertical-align: middle;\n",
       "    }\n",
       "\n",
       "    .dataframe tbody tr th {\n",
       "        vertical-align: top;\n",
       "    }\n",
       "\n",
       "    .dataframe thead th {\n",
       "        text-align: right;\n",
       "    }\n",
       "</style>\n",
       "<table border=\"1\" class=\"dataframe\">\n",
       "  <thead>\n",
       "    <tr style=\"text-align: right;\">\n",
       "      <th></th>\n",
       "      <th>Column</th>\n",
       "      <th>Stats</th>\n",
       "      <th>p-value</th>\n",
       "    </tr>\n",
       "  </thead>\n",
       "  <tbody>\n",
       "    <tr>\n",
       "      <th>0</th>\n",
       "      <td>temperature</td>\n",
       "      <td>6.909511</td>\n",
       "      <td>5.095688e-12</td>\n",
       "    </tr>\n",
       "    <tr>\n",
       "      <th>1</th>\n",
       "      <td>time</td>\n",
       "      <td>1.156761</td>\n",
       "      <td>2.473919e-01</td>\n",
       "    </tr>\n",
       "    <tr>\n",
       "      <th>2</th>\n",
       "      <td>expiration</td>\n",
       "      <td>14.755944</td>\n",
       "      <td>7.158221e-49</td>\n",
       "    </tr>\n",
       "    <tr>\n",
       "      <th>3</th>\n",
       "      <td>gender</td>\n",
       "      <td>-4.956354</td>\n",
       "      <td>7.275617e-07</td>\n",
       "    </tr>\n",
       "    <tr>\n",
       "      <th>4</th>\n",
       "      <td>has_children</td>\n",
       "      <td>-5.135723</td>\n",
       "      <td>2.852285e-07</td>\n",
       "    </tr>\n",
       "    <tr>\n",
       "      <th>...</th>\n",
       "      <td>...</td>\n",
       "      <td>...</td>\n",
       "      <td>...</td>\n",
       "    </tr>\n",
       "    <tr>\n",
       "      <th>59</th>\n",
       "      <td>occupation_Retired</td>\n",
       "      <td>-5.038141</td>\n",
       "      <td>4.765456e-07</td>\n",
       "    </tr>\n",
       "    <tr>\n",
       "      <th>60</th>\n",
       "      <td>occupation_Sales &amp; Related</td>\n",
       "      <td>-0.402244</td>\n",
       "      <td>6.875111e-01</td>\n",
       "    </tr>\n",
       "    <tr>\n",
       "      <th>61</th>\n",
       "      <td>occupation_Student</td>\n",
       "      <td>3.613316</td>\n",
       "      <td>3.034752e-04</td>\n",
       "    </tr>\n",
       "    <tr>\n",
       "      <th>62</th>\n",
       "      <td>occupation_Transportation &amp; Material Moving</td>\n",
       "      <td>0.838830</td>\n",
       "      <td>4.015808e-01</td>\n",
       "    </tr>\n",
       "    <tr>\n",
       "      <th>63</th>\n",
       "      <td>occupation_Unemployed</td>\n",
       "      <td>-1.920036</td>\n",
       "      <td>5.487571e-02</td>\n",
       "    </tr>\n",
       "  </tbody>\n",
       "</table>\n",
       "<p>64 rows × 3 columns</p>\n",
       "</div>"
      ],
      "text/plain": [
       "                                         Column      Stats       p-value\n",
       "0                                   temperature   6.909511  5.095688e-12\n",
       "1                                          time   1.156761  2.473919e-01\n",
       "2                                    expiration  14.755944  7.158221e-49\n",
       "3                                        gender  -4.956354  7.275617e-07\n",
       "4                                  has_children  -5.135723  2.852285e-07\n",
       "..                                          ...        ...           ...\n",
       "59                           occupation_Retired  -5.038141  4.765456e-07\n",
       "60                   occupation_Sales & Related  -0.402244  6.875111e-01\n",
       "61                           occupation_Student   3.613316  3.034752e-04\n",
       "62  occupation_Transportation & Material Moving   0.838830  4.015808e-01\n",
       "63                        occupation_Unemployed  -1.920036  5.487571e-02\n",
       "\n",
       "[64 rows x 3 columns]"
      ]
     },
     "execution_count": 57,
     "metadata": {},
     "output_type": "execute_result"
    }
   ],
   "source": [
    "hypothesis_result = pd.DataFrame(hypothesis, columns =['Column','Stats', 'p-value'])\n",
    "hypothesis_result"
   ]
  },
  {
   "cell_type": "markdown",
   "id": "d5640e03",
   "metadata": {},
   "source": [
    "- H0: Mean of column (with y=0) = mean of column (y=1)\n",
    "- Ha: Mean of column (with y=0) != mean of column (y=1)"
   ]
  },
  {
   "cell_type": "markdown",
   "id": "64647cdc",
   "metadata": {},
   "source": [
    "As most columns have low p-value, we can say that null hypothesis has low probability. The mean of columns is different as per target variables, thus we can consider columns with p-values > 0.05 as statistically significant."
   ]
  },
  {
   "cell_type": "code",
   "execution_count": 59,
   "id": "52c7fdbb",
   "metadata": {},
   "outputs": [],
   "source": [
    "hypothesis_result.to_csv('hypothesis.csv', index=False)"
   ]
  },
  {
   "cell_type": "markdown",
   "id": "b6c249c6",
   "metadata": {},
   "source": [
    "### Feature Importance"
   ]
  },
  {
   "cell_type": "code",
   "execution_count": 60,
   "id": "563b1da9",
   "metadata": {},
   "outputs": [],
   "source": [
    "X = coupon.drop(axis=1, columns=['Y'])\n",
    "y = coupon['Y']"
   ]
  },
  {
   "cell_type": "markdown",
   "id": "24a06c1e",
   "metadata": {},
   "source": [
    "#### Approach 1: Feature Importance using Random Forest"
   ]
  },
  {
   "cell_type": "code",
   "execution_count": 61,
   "id": "52c3b897",
   "metadata": {},
   "outputs": [
    {
     "data": {
      "text/html": [
       "<div>\n",
       "<style scoped>\n",
       "    .dataframe tbody tr th:only-of-type {\n",
       "        vertical-align: middle;\n",
       "    }\n",
       "\n",
       "    .dataframe tbody tr th {\n",
       "        vertical-align: top;\n",
       "    }\n",
       "\n",
       "    .dataframe thead th {\n",
       "        text-align: right;\n",
       "    }\n",
       "</style>\n",
       "<table border=\"1\" class=\"dataframe\">\n",
       "  <thead>\n",
       "    <tr style=\"text-align: right;\">\n",
       "      <th></th>\n",
       "      <th>predictor</th>\n",
       "      <th>featureimportance</th>\n",
       "    </tr>\n",
       "  </thead>\n",
       "  <tbody>\n",
       "    <tr>\n",
       "      <th>0</th>\n",
       "      <td>temperature</td>\n",
       "      <td>0.023608</td>\n",
       "    </tr>\n",
       "    <tr>\n",
       "      <th>1</th>\n",
       "      <td>time</td>\n",
       "      <td>0.040702</td>\n",
       "    </tr>\n",
       "    <tr>\n",
       "      <th>2</th>\n",
       "      <td>expiration</td>\n",
       "      <td>0.029844</td>\n",
       "    </tr>\n",
       "    <tr>\n",
       "      <th>3</th>\n",
       "      <td>gender</td>\n",
       "      <td>0.019281</td>\n",
       "    </tr>\n",
       "    <tr>\n",
       "      <th>4</th>\n",
       "      <td>age</td>\n",
       "      <td>0.052905</td>\n",
       "    </tr>\n",
       "    <tr>\n",
       "      <th>...</th>\n",
       "      <td>...</td>\n",
       "      <td>...</td>\n",
       "    </tr>\n",
       "    <tr>\n",
       "      <th>59</th>\n",
       "      <td>occupation_Retired</td>\n",
       "      <td>0.005713</td>\n",
       "    </tr>\n",
       "    <tr>\n",
       "      <th>60</th>\n",
       "      <td>occupation_Sales &amp; Related</td>\n",
       "      <td>0.012542</td>\n",
       "    </tr>\n",
       "    <tr>\n",
       "      <th>61</th>\n",
       "      <td>occupation_Student</td>\n",
       "      <td>0.012229</td>\n",
       "    </tr>\n",
       "    <tr>\n",
       "      <th>62</th>\n",
       "      <td>occupation_Transportation &amp; Material Moving</td>\n",
       "      <td>0.003178</td>\n",
       "    </tr>\n",
       "    <tr>\n",
       "      <th>63</th>\n",
       "      <td>occupation_Unemployed</td>\n",
       "      <td>0.012777</td>\n",
       "    </tr>\n",
       "  </tbody>\n",
       "</table>\n",
       "<p>64 rows × 2 columns</p>\n",
       "</div>"
      ],
      "text/plain": [
       "                                      predictor  featureimportance\n",
       "0                                   temperature           0.023608\n",
       "1                                          time           0.040702\n",
       "2                                    expiration           0.029844\n",
       "3                                        gender           0.019281\n",
       "4                                           age           0.052905\n",
       "..                                          ...                ...\n",
       "59                           occupation_Retired           0.005713\n",
       "60                   occupation_Sales & Related           0.012542\n",
       "61                           occupation_Student           0.012229\n",
       "62  occupation_Transportation & Material Moving           0.003178\n",
       "63                        occupation_Unemployed           0.012777\n",
       "\n",
       "[64 rows x 2 columns]"
      ]
     },
     "execution_count": 61,
     "metadata": {},
     "output_type": "execute_result"
    }
   ],
   "source": [
    "randomforest = RandomForestClassifier(random_state=0, max_features=15, n_estimators=1000)\n",
    "\n",
    "model_random = randomforest.fit(X, y)\n",
    "list_features=model_random.feature_importances_\n",
    "random_list=pd.DataFrame(list(zip(X.columns,model_random.feature_importances_)), columns = ['predictor','featureimportance'])\n",
    "random_list"
   ]
  },
  {
   "cell_type": "markdown",
   "id": "91e137a6",
   "metadata": {},
   "source": [
    "#### Approach 2: Feature Importance using Recursive Elimination"
   ]
  },
  {
   "cell_type": "code",
   "execution_count": 62,
   "id": "28b0c2fa",
   "metadata": {},
   "outputs": [
    {
     "data": {
      "text/html": [
       "<div>\n",
       "<style scoped>\n",
       "    .dataframe tbody tr th:only-of-type {\n",
       "        vertical-align: middle;\n",
       "    }\n",
       "\n",
       "    .dataframe tbody tr th {\n",
       "        vertical-align: top;\n",
       "    }\n",
       "\n",
       "    .dataframe thead th {\n",
       "        text-align: right;\n",
       "    }\n",
       "</style>\n",
       "<table border=\"1\" class=\"dataframe\">\n",
       "  <thead>\n",
       "    <tr style=\"text-align: right;\">\n",
       "      <th></th>\n",
       "      <th>predictor</th>\n",
       "      <th>ranking</th>\n",
       "    </tr>\n",
       "  </thead>\n",
       "  <tbody>\n",
       "    <tr>\n",
       "      <th>0</th>\n",
       "      <td>temperature</td>\n",
       "      <td>30</td>\n",
       "    </tr>\n",
       "    <tr>\n",
       "      <th>1</th>\n",
       "      <td>time</td>\n",
       "      <td>28</td>\n",
       "    </tr>\n",
       "    <tr>\n",
       "      <th>2</th>\n",
       "      <td>expiration</td>\n",
       "      <td>18</td>\n",
       "    </tr>\n",
       "    <tr>\n",
       "      <th>3</th>\n",
       "      <td>gender</td>\n",
       "      <td>1</td>\n",
       "    </tr>\n",
       "    <tr>\n",
       "      <th>4</th>\n",
       "      <td>age</td>\n",
       "      <td>29</td>\n",
       "    </tr>\n",
       "    <tr>\n",
       "      <th>...</th>\n",
       "      <td>...</td>\n",
       "      <td>...</td>\n",
       "    </tr>\n",
       "    <tr>\n",
       "      <th>59</th>\n",
       "      <td>occupation_Retired</td>\n",
       "      <td>1</td>\n",
       "    </tr>\n",
       "    <tr>\n",
       "      <th>60</th>\n",
       "      <td>occupation_Sales &amp; Related</td>\n",
       "      <td>2</td>\n",
       "    </tr>\n",
       "    <tr>\n",
       "      <th>61</th>\n",
       "      <td>occupation_Student</td>\n",
       "      <td>4</td>\n",
       "    </tr>\n",
       "    <tr>\n",
       "      <th>62</th>\n",
       "      <td>occupation_Transportation &amp; Material Moving</td>\n",
       "      <td>11</td>\n",
       "    </tr>\n",
       "    <tr>\n",
       "      <th>63</th>\n",
       "      <td>occupation_Unemployed</td>\n",
       "      <td>1</td>\n",
       "    </tr>\n",
       "  </tbody>\n",
       "</table>\n",
       "<p>64 rows × 2 columns</p>\n",
       "</div>"
      ],
      "text/plain": [
       "                                      predictor  ranking\n",
       "0                                   temperature       30\n",
       "1                                          time       28\n",
       "2                                    expiration       18\n",
       "3                                        gender        1\n",
       "4                                           age       29\n",
       "..                                          ...      ...\n",
       "59                           occupation_Retired        1\n",
       "60                   occupation_Sales & Related        2\n",
       "61                           occupation_Student        4\n",
       "62  occupation_Transportation & Material Moving       11\n",
       "63                        occupation_Unemployed        1\n",
       "\n",
       "[64 rows x 2 columns]"
      ]
     },
     "execution_count": 62,
     "metadata": {},
     "output_type": "execute_result"
    }
   ],
   "source": [
    "lr = LogisticRegression(max_iter=5000)\n",
    "\n",
    "rfe_best = RFE(estimator=lr)\n",
    "model_rfe = rfe_best.fit(X, y)\n",
    "model_rfe.ranking_\n",
    "RFE_list=pd.DataFrame(list(zip(X.columns,model_rfe.ranking_)), columns = ['predictor','ranking'])\n",
    "RFE_list"
   ]
  },
  {
   "cell_type": "code",
   "execution_count": 63,
   "id": "e4b2fef4",
   "metadata": {},
   "outputs": [
    {
     "data": {
      "text/html": [
       "<div>\n",
       "<style scoped>\n",
       "    .dataframe tbody tr th:only-of-type {\n",
       "        vertical-align: middle;\n",
       "    }\n",
       "\n",
       "    .dataframe tbody tr th {\n",
       "        vertical-align: top;\n",
       "    }\n",
       "\n",
       "    .dataframe thead th {\n",
       "        text-align: right;\n",
       "    }\n",
       "</style>\n",
       "<table border=\"1\" class=\"dataframe\">\n",
       "  <thead>\n",
       "    <tr style=\"text-align: right;\">\n",
       "      <th></th>\n",
       "      <th>predictor</th>\n",
       "      <th>featureimportance</th>\n",
       "    </tr>\n",
       "  </thead>\n",
       "  <tbody>\n",
       "    <tr>\n",
       "      <th>15</th>\n",
       "      <td>CoffeeHouse_ord</td>\n",
       "      <td>0.065285</td>\n",
       "    </tr>\n",
       "    <tr>\n",
       "      <th>4</th>\n",
       "      <td>age</td>\n",
       "      <td>0.052905</td>\n",
       "    </tr>\n",
       "    <tr>\n",
       "      <th>14</th>\n",
       "      <td>Bar_ord</td>\n",
       "      <td>0.050691</td>\n",
       "    </tr>\n",
       "    <tr>\n",
       "      <th>6</th>\n",
       "      <td>education</td>\n",
       "      <td>0.043287</td>\n",
       "    </tr>\n",
       "    <tr>\n",
       "      <th>1</th>\n",
       "      <td>time</td>\n",
       "      <td>0.040702</td>\n",
       "    </tr>\n",
       "    <tr>\n",
       "      <th>...</th>\n",
       "      <td>...</td>\n",
       "      <td>...</td>\n",
       "    </tr>\n",
       "    <tr>\n",
       "      <th>45</th>\n",
       "      <td>occupation_Construction &amp; Extraction</td>\n",
       "      <td>0.001931</td>\n",
       "    </tr>\n",
       "    <tr>\n",
       "      <th>57</th>\n",
       "      <td>occupation_Production Occupations</td>\n",
       "      <td>0.001676</td>\n",
       "    </tr>\n",
       "    <tr>\n",
       "      <th>38</th>\n",
       "      <td>maritalStatus_Widowed</td>\n",
       "      <td>0.001494</td>\n",
       "    </tr>\n",
       "    <tr>\n",
       "      <th>47</th>\n",
       "      <td>occupation_Farming Fishing &amp; Forestry</td>\n",
       "      <td>0.000796</td>\n",
       "    </tr>\n",
       "    <tr>\n",
       "      <th>41</th>\n",
       "      <td>occupation_Building &amp; Grounds Cleaning &amp; Maint...</td>\n",
       "      <td>0.000665</td>\n",
       "    </tr>\n",
       "  </tbody>\n",
       "</table>\n",
       "<p>64 rows × 2 columns</p>\n",
       "</div>"
      ],
      "text/plain": [
       "                                            predictor  featureimportance\n",
       "15                                    CoffeeHouse_ord           0.065285\n",
       "4                                                 age           0.052905\n",
       "14                                            Bar_ord           0.050691\n",
       "6                                           education           0.043287\n",
       "1                                                time           0.040702\n",
       "..                                                ...                ...\n",
       "45               occupation_Construction & Extraction           0.001931\n",
       "57                  occupation_Production Occupations           0.001676\n",
       "38                              maritalStatus_Widowed           0.001494\n",
       "47              occupation_Farming Fishing & Forestry           0.000796\n",
       "41  occupation_Building & Grounds Cleaning & Maint...           0.000665\n",
       "\n",
       "[64 rows x 2 columns]"
      ]
     },
     "execution_count": 63,
     "metadata": {},
     "output_type": "execute_result"
    }
   ],
   "source": [
    "random_list.sort_values(by=['featureimportance'], ascending=False)"
   ]
  },
  {
   "cell_type": "code",
   "execution_count": 64,
   "id": "1251cca5",
   "metadata": {},
   "outputs": [],
   "source": [
    "#Exporting cleaned dataset to csv\n",
    "coupon.to_csv('pre-processed_dataset.csv', index=False)"
   ]
  },
  {
   "cell_type": "code",
   "execution_count": 65,
   "id": "1f45c97f",
   "metadata": {},
   "outputs": [],
   "source": [
    "#Exporting correlation matrix to csv\n",
    "coupon.corr().to_csv('correlation.csv', index=False)"
   ]
  },
  {
   "cell_type": "code",
   "execution_count": null,
   "id": "0d700c89",
   "metadata": {},
   "outputs": [],
   "source": []
  }
 ],
 "metadata": {
  "kernelspec": {
   "display_name": "Python 3",
   "language": "python",
   "name": "python3"
  },
  "language_info": {
   "codemirror_mode": {
    "name": "ipython",
    "version": 3
   },
   "file_extension": ".py",
   "mimetype": "text/x-python",
   "name": "python",
   "nbconvert_exporter": "python",
   "pygments_lexer": "ipython3",
   "version": "3.8.8"
  }
 },
 "nbformat": 4,
 "nbformat_minor": 5
}
